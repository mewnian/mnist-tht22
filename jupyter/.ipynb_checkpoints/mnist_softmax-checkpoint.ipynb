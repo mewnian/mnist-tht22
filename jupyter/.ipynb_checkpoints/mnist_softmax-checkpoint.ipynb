{
 "cells": [
  {
   "cell_type": "code",
   "execution_count": 1,
   "metadata": {},
   "outputs": [],
   "source": [
    "import numpy as np\n",
    "import pandas as pd\n",
    "from matplotlib import pyplot as plt\n",
    "import tensorflow as tf\n",
    "from keras.layers import Dense, Dropout\n",
    "from keras.models import Sequential"
   ]
  },
  {
   "cell_type": "code",
   "execution_count": 2,
   "metadata": {},
   "outputs": [],
   "source": [
    "x_train, y_train, x_test, y_test = ([] for x in range(4))"
   ]
  },
  {
   "cell_type": "code",
   "execution_count": 3,
   "metadata": {},
   "outputs": [],
   "source": [
    "def convert(x):\n",
    "    return bin(x)[2:].zfill(40)"
   ]
  },
  {
   "cell_type": "code",
   "execution_count": 4,
   "metadata": {},
   "outputs": [
    {
     "name": "stdout",
     "output_type": "stream",
     "text": [
      "60000 60000 10000 10000\n"
     ]
    }
   ],
   "source": [
    "with open('../src/data_train.txt','r') as pixels, open('../src/label_train.txt','r') as labels:\n",
    "    for l in pixels.readlines():\n",
    "        l1 = map(int, l.split())\n",
    "        l2 = list(map(convert, l1))\n",
    "        px = list(map(int,''.join(l2)))\n",
    "        lb = int(labels.readline())\n",
    "        x_train.append(px)\n",
    "        y_train.append(lb)\n",
    "with open('../src/data_test.txt','r') as pixels, open('../src/label_test.txt','r') as labels:\n",
    "    for l in pixels.readlines():\n",
    "        l1 = map(int, l.split())\n",
    "        l2 = list(map(convert, l1))\n",
    "        px = list(map(int,''.join(l2)))\n",
    "        lb = int(labels.readline())\n",
    "        x_test.append(px)\n",
    "        y_test.append(lb)\n",
    "print(len(x_train),len(y_train),len(x_test),len(y_test))"
   ]
  },
  {
   "cell_type": "code",
   "execution_count": 5,
   "metadata": {},
   "outputs": [],
   "source": [
    "x_train = np.array(x_train)\n",
    "y_train = np.array(y_train)\n",
    "x_test = np.array(x_test)\n",
    "y_test = np.array(y_test)"
   ]
  },
  {
   "cell_type": "code",
   "execution_count": 6,
   "metadata": {},
   "outputs": [],
   "source": [
    "train_count, features = x_train.shape\n",
    "test_count = x_test.shape[0]"
   ]
  },
  {
   "cell_type": "code",
   "execution_count": 118,
   "metadata": {},
   "outputs": [
    {
     "name": "stdout",
     "output_type": "stream",
     "text": [
      "Model: \"sequential_14\"\n",
      "_________________________________________________________________\n",
      " Layer (type)                Output Shape              Param #   \n",
      "=================================================================\n",
      " dense_41 (Dense)            (None, 160)               256160    \n",
      "                                                                 \n",
      " dense_42 (Dense)            (None, 40)                6440      \n",
      "                                                                 \n",
      " dense_43 (Dense)            (None, 10)                410       \n",
      "                                                                 \n",
      "=================================================================\n",
      "Total params: 263,010\n",
      "Trainable params: 263,010\n",
      "Non-trainable params: 0\n",
      "_________________________________________________________________\n"
     ]
    }
   ],
   "source": [
    "# first model\n",
    "model = Sequential()\n",
    "model.add(Dense(units=160, activation='relu', input_shape=(1600,)))\n",
    "# model.add(Dropout(rate=0.5))\n",
    "model.add(Dense(units=40, activation='relu'))\n",
    "# model.add(Dropout(rate=0.5))\n",
    "model.add(Dense(units=10, activation='softmax'))\n",
    "model.summary()"
   ]
  },
  {
   "cell_type": "code",
   "execution_count": 120,
   "metadata": {},
   "outputs": [
    {
     "name": "stdout",
     "output_type": "stream",
     "text": [
      "Epoch 1/40\n",
      "47/47 [==============================] - 3s 35ms/step - loss: 0.1048 - accuracy: 0.9690 - val_loss: 0.1231 - val_accuracy: 0.9633\n",
      "Epoch 2/40\n",
      "47/47 [==============================] - 1s 29ms/step - loss: 0.0803 - accuracy: 0.9772 - val_loss: 0.1187 - val_accuracy: 0.9645\n",
      "Epoch 3/40\n",
      "47/47 [==============================] - 2s 33ms/step - loss: 0.0668 - accuracy: 0.9813 - val_loss: 0.1142 - val_accuracy: 0.9677\n",
      "Epoch 4/40\n",
      "47/47 [==============================] - 1s 29ms/step - loss: 0.0561 - accuracy: 0.9851 - val_loss: 0.1096 - val_accuracy: 0.9664\n",
      "Epoch 5/40\n",
      "47/47 [==============================] - 1s 30ms/step - loss: 0.0470 - accuracy: 0.9879 - val_loss: 0.1058 - val_accuracy: 0.9686\n",
      "Epoch 6/40\n",
      "47/47 [==============================] - 2s 36ms/step - loss: 0.0388 - accuracy: 0.9909 - val_loss: 0.1045 - val_accuracy: 0.9697\n",
      "Epoch 7/40\n",
      "47/47 [==============================] - 2s 36ms/step - loss: 0.0323 - accuracy: 0.9927 - val_loss: 0.1067 - val_accuracy: 0.9692\n",
      "Epoch 8/40\n",
      "47/47 [==============================] - 1s 31ms/step - loss: 0.0288 - accuracy: 0.9933 - val_loss: 0.1071 - val_accuracy: 0.9696\n",
      "Epoch 9/40\n",
      "47/47 [==============================] - 1s 31ms/step - loss: 0.0241 - accuracy: 0.9948 - val_loss: 0.1057 - val_accuracy: 0.9697\n",
      "Epoch 10/40\n",
      "47/47 [==============================] - 2s 34ms/step - loss: 0.0188 - accuracy: 0.9969 - val_loss: 0.1042 - val_accuracy: 0.9707\n",
      "Epoch 11/40\n",
      "47/47 [==============================] - 2s 32ms/step - loss: 0.0154 - accuracy: 0.9975 - val_loss: 0.1040 - val_accuracy: 0.9704\n",
      "Epoch 12/40\n",
      "47/47 [==============================] - 2s 36ms/step - loss: 0.0124 - accuracy: 0.9985 - val_loss: 0.1060 - val_accuracy: 0.9705\n",
      "Epoch 13/40\n",
      "47/47 [==============================] - 2s 38ms/step - loss: 0.0107 - accuracy: 0.9988 - val_loss: 0.1103 - val_accuracy: 0.9697\n",
      "Epoch 14/40\n",
      "47/47 [==============================] - 2s 32ms/step - loss: 0.0094 - accuracy: 0.9991 - val_loss: 0.1081 - val_accuracy: 0.9703\n",
      "Epoch 15/40\n",
      "47/47 [==============================] - 2s 35ms/step - loss: 0.0074 - accuracy: 0.9994 - val_loss: 0.1075 - val_accuracy: 0.9712\n",
      "Epoch 16/40\n",
      "47/47 [==============================] - 2s 35ms/step - loss: 0.0062 - accuracy: 0.9997 - val_loss: 0.1089 - val_accuracy: 0.9713\n",
      "Epoch 17/40\n",
      "47/47 [==============================] - 2s 32ms/step - loss: 0.0054 - accuracy: 0.9998 - val_loss: 0.1109 - val_accuracy: 0.9711\n",
      "Epoch 18/40\n",
      "47/47 [==============================] - 2s 36ms/step - loss: 0.0047 - accuracy: 0.9998 - val_loss: 0.1113 - val_accuracy: 0.9720\n",
      "Epoch 19/40\n",
      "47/47 [==============================] - 2s 34ms/step - loss: 0.0040 - accuracy: 0.9999 - val_loss: 0.1131 - val_accuracy: 0.9721\n",
      "Epoch 20/40\n",
      "47/47 [==============================] - 2s 33ms/step - loss: 0.0034 - accuracy: 1.0000 - val_loss: 0.1124 - val_accuracy: 0.9715\n",
      "Epoch 21/40\n",
      "47/47 [==============================] - 2s 38ms/step - loss: 0.0030 - accuracy: 0.9999 - val_loss: 0.1138 - val_accuracy: 0.9713\n",
      "Epoch 22/40\n",
      "47/47 [==============================] - 2s 35ms/step - loss: 0.0027 - accuracy: 1.0000 - val_loss: 0.1147 - val_accuracy: 0.9716\n",
      "Epoch 23/40\n",
      "47/47 [==============================] - 2s 33ms/step - loss: 0.0024 - accuracy: 1.0000 - val_loss: 0.1171 - val_accuracy: 0.9715\n",
      "Epoch 24/40\n",
      "47/47 [==============================] - 2s 42ms/step - loss: 0.0021 - accuracy: 1.0000 - val_loss: 0.1158 - val_accuracy: 0.9715\n",
      "Epoch 25/40\n",
      "47/47 [==============================] - 2s 35ms/step - loss: 0.0019 - accuracy: 1.0000 - val_loss: 0.1177 - val_accuracy: 0.9719\n",
      "Epoch 26/40\n",
      "47/47 [==============================] - 2s 33ms/step - loss: 0.0018 - accuracy: 1.0000 - val_loss: 0.1172 - val_accuracy: 0.9714\n",
      "Epoch 27/40\n",
      "47/47 [==============================] - 2s 34ms/step - loss: 0.0016 - accuracy: 1.0000 - val_loss: 0.1190 - val_accuracy: 0.9716\n",
      "Epoch 28/40\n",
      "47/47 [==============================] - 2s 51ms/step - loss: 0.0014 - accuracy: 1.0000 - val_loss: 0.1194 - val_accuracy: 0.9716\n",
      "Epoch 29/40\n",
      "47/47 [==============================] - 2s 39ms/step - loss: 0.0013 - accuracy: 1.0000 - val_loss: 0.1211 - val_accuracy: 0.9717\n",
      "Epoch 30/40\n",
      "47/47 [==============================] - 1s 30ms/step - loss: 0.0012 - accuracy: 1.0000 - val_loss: 0.1212 - val_accuracy: 0.9722\n",
      "Epoch 31/40\n",
      "47/47 [==============================] - 1s 29ms/step - loss: 0.0011 - accuracy: 1.0000 - val_loss: 0.1220 - val_accuracy: 0.9719\n",
      "Epoch 32/40\n",
      "47/47 [==============================] - 1s 28ms/step - loss: 0.0010 - accuracy: 1.0000 - val_loss: 0.1252 - val_accuracy: 0.9713\n",
      "Epoch 33/40\n",
      "47/47 [==============================] - 1s 28ms/step - loss: 9.5153e-04 - accuracy: 1.0000 - val_loss: 0.1255 - val_accuracy: 0.9717\n",
      "Epoch 34/40\n",
      "47/47 [==============================] - 1s 29ms/step - loss: 8.8856e-04 - accuracy: 1.0000 - val_loss: 0.1251 - val_accuracy: 0.9720\n",
      "Epoch 35/40\n",
      "47/47 [==============================] - 2s 34ms/step - loss: 8.1293e-04 - accuracy: 1.0000 - val_loss: 0.1252 - val_accuracy: 0.9722\n",
      "Epoch 36/40\n",
      "47/47 [==============================] - 2s 38ms/step - loss: 7.6742e-04 - accuracy: 1.0000 - val_loss: 0.1267 - val_accuracy: 0.9722\n",
      "Epoch 37/40\n",
      "47/47 [==============================] - 2s 38ms/step - loss: 7.2663e-04 - accuracy: 1.0000 - val_loss: 0.1279 - val_accuracy: 0.9721\n",
      "Epoch 38/40\n",
      "47/47 [==============================] - 2s 36ms/step - loss: 6.6913e-04 - accuracy: 1.0000 - val_loss: 0.1276 - val_accuracy: 0.9721\n",
      "Epoch 39/40\n",
      "47/47 [==============================] - 2s 36ms/step - loss: 6.2650e-04 - accuracy: 1.0000 - val_loss: 0.1281 - val_accuracy: 0.9723\n",
      "Epoch 40/40\n",
      "47/47 [==============================] - 2s 39ms/step - loss: 5.9420e-04 - accuracy: 1.0000 - val_loss: 0.1299 - val_accuracy: 0.9722\n",
      "10/10 [==============================] - 0s 20ms/step - loss: 0.1204 - accuracy: 0.9734\n"
     ]
    },
    {
     "data": {
      "image/png": "[encoded data removed]",
      "text/plain": [
       "<Figure size 432x288 with 1 Axes>"
      ]
     },
     "metadata": {
      "needs_background": "light"
     },
     "output_type": "display_data"
    },
    {
     "name": "stdout",
     "output_type": "stream",
     "text": [
      "Test loss: 0.12\n",
      "Test accuracy: 0.973\n"
     ]
    }
   ],
   "source": [
    "model.compile(optimizer='adam', loss='sparse_categorical_crossentropy', metrics=['accuracy'])\n",
    "history = model.fit(x_train, y_train, batch_size=1024, epochs=40, shuffle=True, validation_split=.2)\n",
    "loss, accuracy  = model.evaluate(x_test, y_test, batch_size=1024)\n",
    "\n",
    "plt.plot(history.history['accuracy'])\n",
    "plt.plot(history.history['val_accuracy'])\n",
    "plt.title('model accuracy')\n",
    "plt.ylabel('accuracy')\n",
    "plt.xlabel('epoch')\n",
    "plt.legend(['training', 'validation'], loc='best')\n",
    "plt.show()\n",
    "\n",
    "print(f'Test loss: {loss:.3}')\n",
    "print(f'Test accuracy: {accuracy:.3}')"
   ]
  },
  {
   "cell_type": "code",
   "execution_count": 40,
   "metadata": {},
   "outputs": [
    {
     "data": {
      "text/plain": [
       "((1600, 128), (1, 128), (128, 64), (1, 64))"
      ]
     },
     "execution_count": 40,
     "metadata": {},
     "output_type": "execute_result"
    }
   ],
   "source": [
    "wList = model.get_weights()\n",
    "wList[1] = np.reshape(wList[1], (1, wList[1].shape[0]))\n",
    "wList[3] = np.reshape(wList[3], (1, wList[3].shape[0]))\n",
    "wList[0].shape, wList[1].shape, wList[2].shape, wList[3].shape"
   ]
  },
  {
   "cell_type": "code",
   "execution_count": 10,
   "metadata": {},
   "outputs": [
    {
     "data": {
      "text/plain": [
       "array([[0.06094807, 0.539661  , 0.68117231],\n",
       "       [0.73494944, 0.74750734, 0.53830821],\n",
       "       [0.21721125, 0.87311173, 0.82015863],\n",
       "       [0.92216783, 0.0042842 , 0.38215996]])"
      ]
     },
     "execution_count": 10,
     "metadata": {},
     "output_type": "execute_result"
    }
   ],
   "source": [
    "a = np.random.rand(4,3)\n",
    "a"
   ]
  },
  {
   "cell_type": "code",
   "execution_count": 11,
   "metadata": {},
   "outputs": [
    {
     "data": {
      "text/plain": [
       "array([[0.12189614, 0.        , 0.        ],\n",
       "       [0.        , 0.        , 0.        ],\n",
       "       [0.43442249, 0.        , 0.        ],\n",
       "       [0.        , 0.0085684 , 0.76431991]])"
      ]
     },
     "execution_count": 11,
     "metadata": {},
     "output_type": "execute_result"
    }
   ],
   "source": [
    "a * (a < 0.5) / 0.5"
   ]
  },
  {
   "cell_type": "code",
   "execution_count": 121,
   "metadata": {},
   "outputs": [],
   "source": [
    "with open('text.txt','w') as g:\n",
    "    g.write('{')\n",
    "    for i in range(len(wList)):\n",
    "        g.write('{')\n",
    "        for j in range(wList[i].shape[0]):\n",
    "            g.write('{')\n",
    "            for k in range(wList[i][j].shape[0]):\n",
    "                g.write(str(wList[i][j][k]))\n",
    "                if k + 1 == wList[i][j].shape[0]: g.write('}')\n",
    "                else: g.write(',')\n",
    "            if j + 1 == wList[i].shape[0]: g.write('}')\n",
    "            else: g.write(',')\n",
    "        if i + 1 == len(wList): g.write('}')\n",
    "        else: g.write(',')"
   ]
  },
  {
   "cell_type": "code",
   "execution_count": 126,
   "metadata": {},
   "outputs": [
    {
     "ename": "IndexError",
     "evalue": "index 2 is out of bounds for axis 0 with size 1",
     "output_type": "error",
     "traceback": [
      "\u001b[1;31m---------------------------------------------------------------------------\u001b[0m",
      "\u001b[1;31mIndexError\u001b[0m                                Traceback (most recent call last)",
      "\u001b[1;32m<ipython-input-126-36f061ae9138>\u001b[0m in \u001b[0;36m<module>\u001b[1;34m\u001b[0m\n\u001b[0;32m      8\u001b[0m \u001b[1;32mwith\u001b[0m \u001b[0mopen\u001b[0m\u001b[1;33m(\u001b[0m\u001b[1;34m'text.txt'\u001b[0m\u001b[1;33m,\u001b[0m\u001b[1;34m'w'\u001b[0m\u001b[1;33m)\u001b[0m \u001b[1;32mas\u001b[0m \u001b[0mg\u001b[0m\u001b[1;33m:\u001b[0m\u001b[1;33m\u001b[0m\u001b[1;33m\u001b[0m\u001b[0m\n\u001b[0;32m      9\u001b[0m     \u001b[1;32mfor\u001b[0m \u001b[0mi\u001b[0m \u001b[1;32min\u001b[0m \u001b[0mrange\u001b[0m\u001b[1;33m(\u001b[0m\u001b[0mlen\u001b[0m\u001b[1;33m(\u001b[0m\u001b[0mwList\u001b[0m\u001b[1;33m)\u001b[0m\u001b[1;33m)\u001b[0m\u001b[1;33m:\u001b[0m\u001b[1;33m\u001b[0m\u001b[1;33m\u001b[0m\u001b[0m\n\u001b[1;32m---> 10\u001b[1;33m         \u001b[0mg\u001b[0m\u001b[1;33m.\u001b[0m\u001b[0mwrite\u001b[0m\u001b[1;33m(\u001b[0m\u001b[1;34m'ld v'\u001b[0m \u001b[1;33m+\u001b[0m \u001b[0mname\u001b[0m\u001b[1;33m[\u001b[0m\u001b[0mi\u001b[0m\u001b[1;33m]\u001b[0m \u001b[1;33m+\u001b[0m \u001b[1;34m'['\u001b[0m \u001b[1;33m+\u001b[0m \u001b[0mstr\u001b[0m\u001b[1;33m(\u001b[0m\u001b[0mwList\u001b[0m\u001b[1;33m[\u001b[0m\u001b[0mi\u001b[0m\u001b[1;33m]\u001b[0m\u001b[1;33m.\u001b[0m\u001b[0mshape\u001b[0m\u001b[1;33m[\u001b[0m\u001b[1;36m0\u001b[0m\u001b[1;33m]\u001b[0m\u001b[1;33m)\u001b[0m \u001b[1;33m+\u001b[0m \u001b[1;34m']['\u001b[0m \u001b[1;33m+\u001b[0m \u001b[0mstr\u001b[0m\u001b[1;33m(\u001b[0m\u001b[0mwList\u001b[0m\u001b[1;33m[\u001b[0m\u001b[0mi\u001b[0m\u001b[1;33m]\u001b[0m\u001b[1;33m[\u001b[0m\u001b[0mj\u001b[0m\u001b[1;33m]\u001b[0m\u001b[1;33m.\u001b[0m\u001b[0mshape\u001b[0m\u001b[1;33m[\u001b[0m\u001b[1;36m0\u001b[0m\u001b[1;33m]\u001b[0m\u001b[1;33m)\u001b[0m \u001b[1;33m+\u001b[0m \u001b[1;34m'] ='\u001b[0m \u001b[1;33m+\u001b[0m \u001b[1;34m'{'\u001b[0m\u001b[1;33m)\u001b[0m\u001b[1;33m\u001b[0m\u001b[1;33m\u001b[0m\u001b[0m\n\u001b[0m\u001b[0;32m     11\u001b[0m         \u001b[1;32mfor\u001b[0m \u001b[0mj\u001b[0m \u001b[1;32min\u001b[0m \u001b[0mrange\u001b[0m\u001b[1;33m(\u001b[0m\u001b[0mmin\u001b[0m\u001b[1;33m(\u001b[0m\u001b[0mMXX\u001b[0m\u001b[1;33m,\u001b[0m\u001b[0mwList\u001b[0m\u001b[1;33m[\u001b[0m\u001b[0mi\u001b[0m\u001b[1;33m]\u001b[0m\u001b[1;33m.\u001b[0m\u001b[0mshape\u001b[0m\u001b[1;33m[\u001b[0m\u001b[1;36m0\u001b[0m\u001b[1;33m]\u001b[0m\u001b[1;33m)\u001b[0m\u001b[1;33m)\u001b[0m\u001b[1;33m:\u001b[0m\u001b[1;33m\u001b[0m\u001b[1;33m\u001b[0m\u001b[0m\n\u001b[0;32m     12\u001b[0m             \u001b[0mg\u001b[0m\u001b[1;33m.\u001b[0m\u001b[0mwrite\u001b[0m\u001b[1;33m(\u001b[0m\u001b[1;34m'{'\u001b[0m\u001b[1;33m)\u001b[0m\u001b[1;33m\u001b[0m\u001b[1;33m\u001b[0m\u001b[0m\n",
      "\u001b[1;31mIndexError\u001b[0m: index 2 is out of bounds for axis 0 with size 1"
     ]
    }
   ],
   "source": [
    "wList = model.get_weights()\n",
    "wList[1] = np.reshape(wList[1], (1, wList[1].shape[0]))\n",
    "wList[3] = np.reshape(wList[3], (1, wList[3].shape[0]))\n",
    "wList[5] = np.reshape(wList[5], (1, wList[5].shape[0]))\n",
    "\n",
    "MXX = 3\n",
    "name = ['w1', 'b1', 'w2', 'b2','w3','b3']\n",
    "with open('text.txt','w') as g:\n",
    "    for i in range(len(wList)):\n",
    "        g.write('ld v' + name[i] + '[' + str(wList[i].shape[0]) + '][' + str(wList[i][j].shape[0]) + '] =' + '{')\n",
    "        for j in range(min(MXX,wList[i].shape[0])):\n",
    "            g.write('{')\n",
    "            for k in range(min(MXX,wList[i][j].shape[0])):\n",
    "                g.write(str(wList[i][j][k]))\n",
    "                if k + 1 == min(MXX,wList[i][j].shape[0]): g.write('}')\n",
    "                else: g.write(',')\n",
    "            if j + 1 == min(MXX,wList[i].shape[0]): g.write('}')\n",
    "            else: g.write(',')\n",
    "        g.write(';\\n')\n",
    "    g.write('\\nMatrix ')\n",
    "    for i in range(len(wList)):\n",
    "        g.write(name[i] + '(' + str(wList[i].shape[0]) + ',' + str(wList[i].shape[1]) + ')')\n",
    "        if i + 1 == len(wList): g.write(';')\n",
    "        else: g.write(', ')\n",
    "    g.write('\\n')"
   ]
  },
  {
   "cell_type": "code",
   "execution_count": 13,
   "metadata": {},
   "outputs": [
    {
     "name": "stdout",
     "output_type": "stream",
     "text": [
      "[-0.26014704 -0.24727628 -0.2409507  ...  0.21034294  0.22725719\n",
      "  0.22822458]\n",
      "[-0.12040462 -0.10743477 -0.09505712 -0.09148888 -0.09091929 -0.08619189\n",
      " -0.08205038 -0.07686558 -0.07413844 -0.07275744 -0.07267617 -0.07189123\n",
      " -0.06975536 -0.0695463  -0.0692926  -0.06757965 -0.06715018 -0.06697926\n",
      " -0.06560958 -0.06285212 -0.06252979 -0.06164019 -0.06135112 -0.06111968\n",
      " -0.06074988 -0.06070273 -0.05951096 -0.059036   -0.05827849 -0.05745044\n",
      " -0.05582562 -0.05573272 -0.05553573 -0.05532165 -0.0543976  -0.054113\n",
      " -0.05392619 -0.05356968 -0.05270971 -0.05021285 -0.04987488 -0.04973049\n",
      " -0.04868368 -0.04726651 -0.0469461  -0.04592836 -0.04566283 -0.04532096\n",
      " -0.04528921 -0.04317129 -0.04310488 -0.04134814 -0.04080084 -0.03950386\n",
      " -0.03913711 -0.038874   -0.03830855 -0.03772254 -0.03746923 -0.03709232\n",
      " -0.03619008 -0.03577875 -0.03336017 -0.03089863 -0.03085268 -0.03058065\n",
      " -0.03051068 -0.02736106 -0.02697797 -0.02622349 -0.02616691 -0.02537515\n",
      " -0.02511231 -0.0243594  -0.02392933 -0.02355888 -0.0209611  -0.0209322\n",
      " -0.02051961 -0.02050118 -0.02043462 -0.0198704  -0.01934393 -0.01887206\n",
      " -0.01874857 -0.0186949  -0.01657278 -0.01447    -0.01341136 -0.0134069\n",
      " -0.0130945  -0.01278995 -0.01148094 -0.01104931 -0.01072816 -0.01015382\n",
      " -0.01011053 -0.01008448 -0.00997443 -0.00989566 -0.00984652 -0.00980182\n",
      " -0.00962281 -0.00934393 -0.00924881 -0.00914392 -0.00782475 -0.00746637\n",
      " -0.0073979  -0.00525112 -0.00472285 -0.00459975 -0.00423059 -0.00420402\n",
      " -0.00308983 -0.00306552 -0.002718   -0.00267022 -0.00211622 -0.00168897\n",
      "  0.00037203  0.00264187  0.00330068  0.00404074  0.00413712  0.00430869\n",
      "  0.00441172  0.00522375  0.00625781  0.00672136  0.00732126  0.00848551\n",
      "  0.00849927  0.00977197  0.01010792  0.01086292  0.01150621  0.01196503\n",
      "  0.01210074  0.01247232  0.01260647  0.01324571  0.01334972  0.01444904\n",
      "  0.01449709  0.01579832  0.01709857  0.01716657  0.01864857  0.01894788\n",
      "  0.01901373  0.01908704  0.01935559  0.02086742  0.02113053  0.02122518\n",
      "  0.02159007  0.0222781   0.02232619  0.02233723  0.02285892  0.02395739\n",
      "  0.0249001   0.02684985  0.02696716  0.02697512  0.02836741  0.02908814\n",
      "  0.02930293  0.02935093  0.02938117  0.02946886  0.02949399  0.02991484\n",
      "  0.03014111  0.03040111  0.03072907  0.03092234  0.03293854  0.03301622\n",
      "  0.03344526  0.03360776  0.03509495  0.03518825  0.03551374  0.0357435\n",
      "  0.0366853   0.03693414  0.03782353  0.03801819  0.0382106   0.03876799\n",
      "  0.03933775  0.03945925  0.04000181  0.04003777  0.04020488  0.0402787\n",
      "  0.04061516  0.04133683  0.04137159  0.0414079   0.04237208  0.04267386\n",
      "  0.04321297  0.04324025  0.04330785  0.04372855  0.04441791  0.04456586\n",
      "  0.04484766  0.04491582  0.04575384  0.04712118  0.04817162  0.04820651\n",
      "  0.04918662  0.04969938  0.04986905  0.050097    0.05036196  0.05043874\n",
      "  0.05062962  0.05065193  0.05069908  0.05095568  0.05181656  0.05549222\n",
      "  0.05571887  0.05630854  0.0568676   0.05698067  0.05997149  0.06182857\n",
      "  0.06201549  0.0640351   0.06450331  0.06472939  0.06565941  0.06567559\n",
      "  0.06601292  0.06651613  0.06779134  0.06853998  0.0686509   0.06905863\n",
      "  0.06941519  0.07165532  0.07165571  0.0797567   0.08109229  0.08333925\n",
      "  0.08553057  0.08802117  0.09368188  0.09525234]\n",
      "[-0.4206264  -0.38685012 -0.3822054  ...  0.31123865  0.3211094\n",
      "  0.33041146]\n",
      "[-0.06640934 -0.02828095 -0.02705008 -0.00618375  0.00586624  0.00770178\n",
      "  0.01662843  0.02239608  0.02957395  0.03456733]\n"
     ]
    }
   ],
   "source": [
    "for i in range(4):\n",
    "    print(np.unique(wList[i]))"
   ]
  },
  {
   "cell_type": "code",
   "execution_count": 111,
   "metadata": {},
   "outputs": [],
   "source": [
    "s=\"\"\"0000000000000000000000000000000000000000\n",
    "0000000000000000000000000000000000000000\n",
    "0000000000000000000000000000000000000000\n",
    "0000000000000000000000000000000000000000\n",
    "0000000000000000000000000000000000000000\n",
    "0000000000000000000000000000000000000000\n",
    "0000000000000000000000000000000000000000\n",
    "0000000000000000000000000000000000000000\n",
    "0000000000000000000000000000000000000000\n",
    "0000000000000000000000000000000000000000\n",
    "0000000000000000000000011111111111111000\n",
    "0000000000000000000001111111111111110000\n",
    "0000000000000000000111111111110000000000\n",
    "0000000000000000011111110000000000000000\n",
    "0000000000000000111111000000000000000000\n",
    "0000000000000001111110000000000000000000\n",
    "0000000000000111110000000000000000000000\n",
    "0000000000011110000000000000000000000000\n",
    "0000000000011100000000000000000000000000\n",
    "0000000000111100000000000000000000000000\n",
    "0000000000111111110000000000000000000000\n",
    "0000000000001111111110000000000000000000\n",
    "0000000000000000111111000000000000000000\n",
    "0000000000000000000011100000000000000000\n",
    "0000000000000000000001110000000000000000\n",
    "0000000000000000000000111000000000000000\n",
    "0000000000000000000000011100000000000000\n",
    "0000000000000000000000011100000000000000\n",
    "0000000000000000000000011000000000000000\n",
    "0000000000000000000000011000000000000000\n",
    "0000000000000000000000110000000000000000\n",
    "0000000000000000000001110000000000000000\n",
    "0000000000000000000011100000000000000000\n",
    "0000000000001000001111000000000000000000\n",
    "0000000000000111111100000000000000000000\n",
    "0000000000000111111000000000000000000000\n",
    "0000000000000000000000000000000000000000\n",
    "0000000000000000000000000000000000000000\n",
    "0000000000000000000000000000000000000000\n",
    "0000000000000000000000000000000000000000\n",
    "\"\"\"\n",
    "s = ''.join(s.split('\\n'))"
   ]
  },
  {
   "cell_type": "code",
   "execution_count": 112,
   "metadata": {},
   "outputs": [
    {
     "name": "stdout",
     "output_type": "stream",
     "text": [
      "1/1 [==============================] - 0s 125ms/step\n"
     ]
    },
    {
     "data": {
      "text/plain": [
       "5"
      ]
     },
     "execution_count": 112,
     "metadata": {},
     "output_type": "execute_result"
    }
   ],
   "source": [
    "x_pred = np.array([float(x) for x in s])\n",
    "x_pred = np.reshape(x_pred,(1,-1))\n",
    "# x_pred.shape\n",
    "np.argmax(model.predict(x_pred))"
   ]
  },
  {
   "cell_type": "code",
   "execution_count": 113,
   "metadata": {},
   "outputs": [
    {
     "name": "stdout",
     "output_type": "stream",
     "text": [
      "[[ -2.89202756  -8.73529739 -12.35263491  -7.91347577  -9.79612426\n",
      "   12.50315124  -6.76823763  -5.48342324  -0.42837511  -2.03332258]]\n"
     ]
    }
   ],
   "source": [
    "t = np.dot(x_pred,wList[0]) + wList[1]\n",
    "t = np.maximum(0, t)\n",
    "\n",
    "t = np.dot(t,wList[2]) + wList[3]\n",
    "t = np.maximum(0, t)\n",
    "\n",
    "t = np.dot(t,wList[4]) + wList[5]\n",
    "print(t)"
   ]
  },
  {
   "cell_type": "code",
   "execution_count": 116,
   "metadata": {},
   "outputs": [
    {
     "ename": "UnicodeEncodeError",
     "evalue": "'charmap' codec can't encode character '\\x80' in position 0: character maps to <undefined>",
     "output_type": "error",
     "traceback": [
      "\u001b[1;31m---------------------------------------------------------------------------\u001b[0m",
      "\u001b[1;31mUnicodeEncodeError\u001b[0m                        Traceback (most recent call last)",
      "\u001b[1;32m<ipython-input-116-6f5b60fa5e61>\u001b[0m in \u001b[0;36m<module>\u001b[1;34m\u001b[0m\n\u001b[0;32m      1\u001b[0m \u001b[1;32mwith\u001b[0m \u001b[0mopen\u001b[0m\u001b[1;33m(\u001b[0m\u001b[1;34m'str.txt'\u001b[0m\u001b[1;33m,\u001b[0m\u001b[1;34m'w'\u001b[0m\u001b[1;33m)\u001b[0m \u001b[1;32mas\u001b[0m \u001b[0mf\u001b[0m\u001b[1;33m:\u001b[0m\u001b[1;33m\u001b[0m\u001b[1;33m\u001b[0m\u001b[0m\n\u001b[1;32m----> 2\u001b[1;33m     \u001b[1;32mfor\u001b[0m \u001b[0mx\u001b[0m \u001b[1;32min\u001b[0m \u001b[0mrange\u001b[0m\u001b[1;33m(\u001b[0m\u001b[1;36m256\u001b[0m\u001b[1;33m)\u001b[0m\u001b[1;33m:\u001b[0m \u001b[0mf\u001b[0m\u001b[1;33m.\u001b[0m\u001b[0mwrite\u001b[0m\u001b[1;33m(\u001b[0m\u001b[0mchr\u001b[0m\u001b[1;33m(\u001b[0m\u001b[0mx\u001b[0m\u001b[1;33m)\u001b[0m\u001b[1;33m)\u001b[0m\u001b[1;33m\u001b[0m\u001b[1;33m\u001b[0m\u001b[0m\n\u001b[0m",
      "\u001b[1;32m~\\anaconda3\\lib\\encodings\\cp1252.py\u001b[0m in \u001b[0;36mencode\u001b[1;34m(self, input, final)\u001b[0m\n\u001b[0;32m     17\u001b[0m \u001b[1;32mclass\u001b[0m \u001b[0mIncrementalEncoder\u001b[0m\u001b[1;33m(\u001b[0m\u001b[0mcodecs\u001b[0m\u001b[1;33m.\u001b[0m\u001b[0mIncrementalEncoder\u001b[0m\u001b[1;33m)\u001b[0m\u001b[1;33m:\u001b[0m\u001b[1;33m\u001b[0m\u001b[1;33m\u001b[0m\u001b[0m\n\u001b[0;32m     18\u001b[0m     \u001b[1;32mdef\u001b[0m \u001b[0mencode\u001b[0m\u001b[1;33m(\u001b[0m\u001b[0mself\u001b[0m\u001b[1;33m,\u001b[0m \u001b[0minput\u001b[0m\u001b[1;33m,\u001b[0m \u001b[0mfinal\u001b[0m\u001b[1;33m=\u001b[0m\u001b[1;32mFalse\u001b[0m\u001b[1;33m)\u001b[0m\u001b[1;33m:\u001b[0m\u001b[1;33m\u001b[0m\u001b[1;33m\u001b[0m\u001b[0m\n\u001b[1;32m---> 19\u001b[1;33m         \u001b[1;32mreturn\u001b[0m \u001b[0mcodecs\u001b[0m\u001b[1;33m.\u001b[0m\u001b[0mcharmap_encode\u001b[0m\u001b[1;33m(\u001b[0m\u001b[0minput\u001b[0m\u001b[1;33m,\u001b[0m\u001b[0mself\u001b[0m\u001b[1;33m.\u001b[0m\u001b[0merrors\u001b[0m\u001b[1;33m,\u001b[0m\u001b[0mencoding_table\u001b[0m\u001b[1;33m)\u001b[0m\u001b[1;33m[\u001b[0m\u001b[1;36m0\u001b[0m\u001b[1;33m]\u001b[0m\u001b[1;33m\u001b[0m\u001b[1;33m\u001b[0m\u001b[0m\n\u001b[0m\u001b[0;32m     20\u001b[0m \u001b[1;33m\u001b[0m\u001b[0m\n\u001b[0;32m     21\u001b[0m \u001b[1;32mclass\u001b[0m \u001b[0mIncrementalDecoder\u001b[0m\u001b[1;33m(\u001b[0m\u001b[0mcodecs\u001b[0m\u001b[1;33m.\u001b[0m\u001b[0mIncrementalDecoder\u001b[0m\u001b[1;33m)\u001b[0m\u001b[1;33m:\u001b[0m\u001b[1;33m\u001b[0m\u001b[1;33m\u001b[0m\u001b[0m\n",
      "\u001b[1;31mUnicodeEncodeError\u001b[0m: 'charmap' codec can't encode character '\\x80' in position 0: character maps to <undefined>"
     ]
    }
   ],
   "source": [
    "with open('str.txt','w') as f:\n",
    "    for x in range(256): f.write(chr(x))"
   ]
  }
 ],
 "metadata": {
  "kernelspec": {
   "display_name": "Python 3",
   "language": "python",
   "name": "python3"
  },
  "language_info": {
   "codemirror_mode": {
    "name": "ipython",
    "version": 3
   },
   "file_extension": ".py",
   "mimetype": "text/x-python",
   "name": "python",
   "nbconvert_exporter": "python",
   "pygments_lexer": "ipython3",
   "version": "3.8.5"
  },
  "vscode": {
   "interpreter": {
    "hash": "369f2c481f4da34e4445cda3fffd2e751bd1c4d706f27375911949ba6bb62e1c"
   }
  }
 },
 "nbformat": 4,
 "nbformat_minor": 4
}
