{
 "cells": [
  {
   "cell_type": "code",
   "execution_count": 56,
   "metadata": {},
   "outputs": [],
   "source": [
    "import numpy as np\n",
    "import pandas as pd\n",
    "from matplotlib import pyplot as plt\n",
    "import tensorflow as tf\n",
    "from keras.layers import Dense, Dropout\n",
    "from keras.models import Sequential"
   ]
  },
  {
   "cell_type": "code",
   "execution_count": 57,
   "metadata": {},
   "outputs": [],
   "source": [
    "x_train, y_train, x_test, y_test = ([] for x in range(4))"
   ]
  },
  {
   "cell_type": "code",
   "execution_count": 58,
   "metadata": {},
   "outputs": [],
   "source": [
    "def convert(x):\n",
    "    return bin(x)[2:].zfill(40)"
   ]
  },
  {
   "cell_type": "code",
   "execution_count": 59,
   "metadata": {},
   "outputs": [
    {
     "name": "stdout",
     "output_type": "stream",
     "text": [
      "60000 60000 10000 10000\n"
     ]
    }
   ],
   "source": [
    "with open('../src/data_train.txt','r') as pixels, open('../src/label_train.txt','r') as labels:\n",
    "    for l in pixels.readlines():\n",
    "        l1 = map(int, l.split())\n",
    "        l2 = list(map(convert, l1))\n",
    "        px = list(map(int,''.join(l2)))\n",
    "        lb = int(labels.readline())\n",
    "        x_train.append(px)\n",
    "        y_train.append(lb)\n",
    "with open('../src/data_test.txt','r') as pixels, open('../src/label_test.txt','r') as labels:\n",
    "    for l in pixels.readlines():\n",
    "        l1 = map(int, l.split())\n",
    "        l2 = list(map(convert, l1))\n",
    "        px = list(map(int,''.join(l2)))\n",
    "        lb = int(labels.readline())\n",
    "        x_test.append(px)\n",
    "        y_test.append(lb)\n",
    "print(len(x_train),len(y_train),len(x_test),len(y_test))"
   ]
  },
  {
   "cell_type": "code",
   "execution_count": 60,
   "metadata": {},
   "outputs": [],
   "source": [
    "x_train = np.array(x_train)\n",
    "y_train = np.array(y_train)\n",
    "x_test = np.array(x_test)\n",
    "y_test = np.array(y_test)"
   ]
  },
  {
   "cell_type": "code",
   "execution_count": 66,
   "metadata": {},
   "outputs": [],
   "source": [
    "train_count, features = x_train.shape\n",
    "test_count = x_test.shape[0]"
   ]
  },
  {
   "cell_type": "code",
   "execution_count": 73,
   "metadata": {},
   "outputs": [
    {
     "name": "stdout",
     "output_type": "stream",
     "text": [
      "Model: \"sequential_5\"\n",
      "_________________________________________________________________\n",
      " Layer (type)                Output Shape              Param #   \n",
      "=================================================================\n",
      " dense_9 (Dense)             (None, 256)               409856    \n",
      "                                                                 \n",
      " dropout_6 (Dropout)         (None, 256)               0         \n",
      "                                                                 \n",
      " dense_10 (Dense)            (None, 64)                16448     \n",
      "                                                                 \n",
      " dropout_7 (Dropout)         (None, 64)                0         \n",
      "                                                                 \n",
      " dense_11 (Dense)            (None, 10)                650       \n",
      "                                                                 \n",
      "=================================================================\n",
      "Total params: 426,954\n",
      "Trainable params: 426,954\n",
      "Non-trainable params: 0\n",
      "_________________________________________________________________\n"
     ]
    }
   ],
   "source": [
    "# first model\n",
    "model = Sequential()\n",
    "model.add(Dense(units=256, activation='relu', input_shape=(features,)))\n",
    "model.add(Dropout(rate=0.4))\n",
    "model.add(Dense(units=64, activation='relu', input_shape=(features,)))\n",
    "model.add(Dropout(rate=0.4))\n",
    "model.add(Dense(units=10, activation='softmax'))\n",
    "model.summary()"
   ]
  },
  {
   "cell_type": "code",
   "execution_count": 74,
   "metadata": {},
   "outputs": [
    {
     "name": "stdout",
     "output_type": "stream",
     "text": [
      "Epoch 1/50\n",
      "12/12 [==============================] - 3s 173ms/step - loss: 1.3395 - accuracy: 0.5448 - val_loss: 0.4043 - val_accuracy: 0.8858\n",
      "Epoch 2/50\n",
      "12/12 [==============================] - 1s 121ms/step - loss: 0.5394 - accuracy: 0.8360 - val_loss: 0.2534 - val_accuracy: 0.9259\n",
      "Epoch 3/50\n",
      "12/12 [==============================] - 2s 157ms/step - loss: 0.3741 - accuracy: 0.8918 - val_loss: 0.2045 - val_accuracy: 0.9414\n",
      "Epoch 4/50\n",
      "12/12 [==============================] - 2s 166ms/step - loss: 0.2967 - accuracy: 0.9181 - val_loss: 0.1757 - val_accuracy: 0.9489\n",
      "Epoch 5/50\n",
      "12/12 [==============================] - 2s 132ms/step - loss: 0.2533 - accuracy: 0.9274 - val_loss: 0.1558 - val_accuracy: 0.9548\n",
      "Epoch 6/50\n",
      "12/12 [==============================] - 2s 129ms/step - loss: 0.2307 - accuracy: 0.9354 - val_loss: 0.1427 - val_accuracy: 0.9586\n",
      "Epoch 7/50\n",
      "12/12 [==============================] - 2s 141ms/step - loss: 0.2102 - accuracy: 0.9406 - val_loss: 0.1354 - val_accuracy: 0.9605\n",
      "Epoch 8/50\n",
      "12/12 [==============================] - 2s 196ms/step - loss: 0.1839 - accuracy: 0.9471 - val_loss: 0.1277 - val_accuracy: 0.9626\n",
      "Epoch 9/50\n",
      "12/12 [==============================] - 2s 130ms/step - loss: 0.1718 - accuracy: 0.9500 - val_loss: 0.1242 - val_accuracy: 0.9632\n",
      "Epoch 10/50\n",
      "12/12 [==============================] - 1s 124ms/step - loss: 0.1595 - accuracy: 0.9549 - val_loss: 0.1186 - val_accuracy: 0.9653\n",
      "Epoch 11/50\n",
      "12/12 [==============================] - 2s 130ms/step - loss: 0.1497 - accuracy: 0.9567 - val_loss: 0.1135 - val_accuracy: 0.9664\n",
      "Epoch 12/50\n",
      "12/12 [==============================] - 1s 125ms/step - loss: 0.1402 - accuracy: 0.9605 - val_loss: 0.1124 - val_accuracy: 0.9663\n",
      "Epoch 13/50\n",
      "12/12 [==============================] - 2s 148ms/step - loss: 0.1307 - accuracy: 0.9613 - val_loss: 0.1101 - val_accuracy: 0.9685\n",
      "Epoch 14/50\n",
      "12/12 [==============================] - 1s 125ms/step - loss: 0.1231 - accuracy: 0.9634 - val_loss: 0.1077 - val_accuracy: 0.9697\n",
      "Epoch 15/50\n",
      "12/12 [==============================] - 1s 123ms/step - loss: 0.1131 - accuracy: 0.9664 - val_loss: 0.1057 - val_accuracy: 0.9693\n",
      "Epoch 16/50\n",
      "12/12 [==============================] - 2s 132ms/step - loss: 0.1098 - accuracy: 0.9678 - val_loss: 0.1026 - val_accuracy: 0.9711\n",
      "Epoch 17/50\n",
      "12/12 [==============================] - 1s 126ms/step - loss: 0.1033 - accuracy: 0.9685 - val_loss: 0.1045 - val_accuracy: 0.9709\n",
      "Epoch 18/50\n",
      "12/12 [==============================] - 1s 124ms/step - loss: 0.1003 - accuracy: 0.9701 - val_loss: 0.1038 - val_accuracy: 0.9719\n",
      "Epoch 19/50\n",
      "12/12 [==============================] - 1s 124ms/step - loss: 0.0961 - accuracy: 0.9714 - val_loss: 0.1061 - val_accuracy: 0.9709\n",
      "Epoch 20/50\n",
      "12/12 [==============================] - 2s 127ms/step - loss: 0.0886 - accuracy: 0.9730 - val_loss: 0.1019 - val_accuracy: 0.9722\n",
      "Epoch 21/50\n",
      "12/12 [==============================] - 1s 121ms/step - loss: 0.0850 - accuracy: 0.9739 - val_loss: 0.1051 - val_accuracy: 0.9714\n",
      "Epoch 22/50\n",
      "12/12 [==============================] - 1s 121ms/step - loss: 0.0859 - accuracy: 0.9731 - val_loss: 0.1038 - val_accuracy: 0.9722\n",
      "Epoch 23/50\n",
      "12/12 [==============================] - 2s 129ms/step - loss: 0.0838 - accuracy: 0.9741 - val_loss: 0.1040 - val_accuracy: 0.9717\n",
      "Epoch 24/50\n",
      "12/12 [==============================] - 1s 120ms/step - loss: 0.0797 - accuracy: 0.9752 - val_loss: 0.1054 - val_accuracy: 0.9719\n",
      "Epoch 25/50\n",
      "12/12 [==============================] - 1s 124ms/step - loss: 0.0791 - accuracy: 0.9756 - val_loss: 0.1069 - val_accuracy: 0.9721\n",
      "Epoch 26/50\n",
      "12/12 [==============================] - 2s 132ms/step - loss: 0.0730 - accuracy: 0.9776 - val_loss: 0.1056 - val_accuracy: 0.9724\n",
      "Epoch 27/50\n",
      "12/12 [==============================] - 2s 174ms/step - loss: 0.0724 - accuracy: 0.9779 - val_loss: 0.1096 - val_accuracy: 0.9712\n",
      "Epoch 28/50\n",
      "12/12 [==============================] - 2s 139ms/step - loss: 0.0700 - accuracy: 0.9783 - val_loss: 0.1052 - val_accuracy: 0.9736\n",
      "Epoch 29/50\n",
      "12/12 [==============================] - 2s 134ms/step - loss: 0.0677 - accuracy: 0.9794 - val_loss: 0.1069 - val_accuracy: 0.9721\n",
      "Epoch 30/50\n",
      "12/12 [==============================] - 2s 132ms/step - loss: 0.0645 - accuracy: 0.9803 - val_loss: 0.1074 - val_accuracy: 0.9725\n",
      "Epoch 31/50\n",
      "12/12 [==============================] - 1s 127ms/step - loss: 0.0629 - accuracy: 0.9797 - val_loss: 0.1110 - val_accuracy: 0.9732\n",
      "Epoch 32/50\n",
      "12/12 [==============================] - 2s 192ms/step - loss: 0.0587 - accuracy: 0.9819 - val_loss: 0.1129 - val_accuracy: 0.9726\n",
      "Epoch 33/50\n",
      "12/12 [==============================] - 2s 193ms/step - loss: 0.0591 - accuracy: 0.9810 - val_loss: 0.1085 - val_accuracy: 0.9735\n",
      "Epoch 34/50\n",
      "12/12 [==============================] - 2s 196ms/step - loss: 0.0583 - accuracy: 0.9821 - val_loss: 0.1159 - val_accuracy: 0.9720\n",
      "Epoch 35/50\n",
      "12/12 [==============================] - 2s 143ms/step - loss: 0.0578 - accuracy: 0.9829 - val_loss: 0.1114 - val_accuracy: 0.9732\n",
      "Epoch 36/50\n",
      "12/12 [==============================] - 2s 140ms/step - loss: 0.0557 - accuracy: 0.9823 - val_loss: 0.1160 - val_accuracy: 0.9732\n",
      "Epoch 37/50\n",
      "12/12 [==============================] - 2s 141ms/step - loss: 0.0599 - accuracy: 0.9811 - val_loss: 0.1127 - val_accuracy: 0.9741\n",
      "Epoch 38/50\n",
      "12/12 [==============================] - 2s 166ms/step - loss: 0.0573 - accuracy: 0.9823 - val_loss: 0.1121 - val_accuracy: 0.9729\n",
      "Epoch 39/50\n",
      "12/12 [==============================] - 2s 201ms/step - loss: 0.0542 - accuracy: 0.9834 - val_loss: 0.1137 - val_accuracy: 0.9735\n",
      "Epoch 40/50\n",
      "12/12 [==============================] - 2s 160ms/step - loss: 0.0543 - accuracy: 0.9832 - val_loss: 0.1131 - val_accuracy: 0.9729\n",
      "Epoch 41/50\n",
      "12/12 [==============================] - 3s 248ms/step - loss: 0.0461 - accuracy: 0.9848 - val_loss: 0.1162 - val_accuracy: 0.9743\n",
      "Epoch 42/50\n",
      "12/12 [==============================] - 2s 182ms/step - loss: 0.0471 - accuracy: 0.9851 - val_loss: 0.1156 - val_accuracy: 0.9737\n",
      "Epoch 43/50\n",
      "12/12 [==============================] - 3s 231ms/step - loss: 0.0479 - accuracy: 0.9855 - val_loss: 0.1178 - val_accuracy: 0.9740\n",
      "Epoch 44/50\n",
      "12/12 [==============================] - 2s 199ms/step - loss: 0.0456 - accuracy: 0.9860 - val_loss: 0.1203 - val_accuracy: 0.9748\n",
      "Epoch 45/50\n",
      "12/12 [==============================] - 2s 180ms/step - loss: 0.0460 - accuracy: 0.9855 - val_loss: 0.1241 - val_accuracy: 0.9736\n",
      "Epoch 46/50\n",
      "12/12 [==============================] - 2s 174ms/step - loss: 0.0471 - accuracy: 0.9853 - val_loss: 0.1222 - val_accuracy: 0.9747\n",
      "Epoch 47/50\n",
      "12/12 [==============================] - 2s 152ms/step - loss: 0.0445 - accuracy: 0.9863 - val_loss: 0.1263 - val_accuracy: 0.9736\n",
      "Epoch 48/50\n",
      "12/12 [==============================] - 2s 153ms/step - loss: 0.0420 - accuracy: 0.9864 - val_loss: 0.1225 - val_accuracy: 0.9739\n",
      "Epoch 49/50\n",
      "12/12 [==============================] - 2s 174ms/step - loss: 0.0414 - accuracy: 0.9874 - val_loss: 0.1262 - val_accuracy: 0.9735\n",
      "Epoch 50/50\n",
      "12/12 [==============================] - 2s 154ms/step - loss: 0.0418 - accuracy: 0.9868 - val_loss: 0.1222 - val_accuracy: 0.9744\n",
      "3/3 [==============================] - 1s 45ms/step - loss: 0.1233 - accuracy: 0.9753\n"
     ]
    },
    {
     "data": {
      "image/png": "[encoded data removed]",
      "text/plain": [
       "<Figure size 432x288 with 1 Axes>"
      ]
     },
     "metadata": {
      "needs_background": "light"
     },
     "output_type": "display_data"
    },
    {
     "name": "stdout",
     "output_type": "stream",
     "text": [
      "Test loss: 0.123\n",
      "Test accuracy: 0.975\n"
     ]
    }
   ],
   "source": [
    "model.compile(optimizer=tf.keras.optimizers.Adam(learning_rate=0.005), loss='sparse_categorical_crossentropy', metrics=['accuracy'])\n",
    "history = model.fit(x_train, y_train, batch_size=4000, epochs=50, shuffle=True, validation_split=.2)\n",
    "loss, accuracy  = model.evaluate(x_test, y_test, batch_size=4000)\n",
    "\n",
    "plt.plot(history.history['accuracy'])\n",
    "plt.plot(history.history['val_accuracy'])\n",
    "plt.title('model accuracy')\n",
    "plt.ylabel('accuracy')\n",
    "plt.xlabel('epoch')\n",
    "plt.legend(['training', 'validation'], loc='best')\n",
    "plt.show()\n",
    "\n",
    "print(f'Test loss: {loss:.3}')\n",
    "print(f'Test accuracy: {accuracy:.3}')"
   ]
  }
 ],
 "metadata": {
  "kernelspec": {
   "display_name": "Python 3",
   "language": "python",
   "name": "python3"
  },
  "language_info": {
   "codemirror_mode": {
    "name": "ipython",
    "version": 3
   },
   "file_extension": ".py",
   "mimetype": "text/x-python",
   "name": "python",
   "nbconvert_exporter": "python",
   "pygments_lexer": "ipython3",
   "version": "3.8.5"
  },
  "vscode": {
   "interpreter": {
    "hash": "369f2c481f4da34e4445cda3fffd2e751bd1c4d706f27375911949ba6bb62e1c"
   }
  }
 },
 "nbformat": 4,
 "nbformat_minor": 2
}
