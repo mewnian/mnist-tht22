{
 "cells": [
  {
   "cell_type": "code",
   "execution_count": 1,
   "metadata": {},
   "outputs": [],
   "source": [
    "import numpy as np\n",
    "import pandas as pd\n",
    "from matplotlib import pyplot as plt\n",
    "import tensorflow as tf\n",
    "from keras.layers import Dense, Dropout\n",
    "from keras.models import Sequential"
   ]
  },
  {
   "cell_type": "code",
   "execution_count": 2,
   "metadata": {},
   "outputs": [],
   "source": [
    "x_train, y_train, x_test, y_test = ([] for x in range(4))"
   ]
  },
  {
   "cell_type": "code",
   "execution_count": 3,
   "metadata": {},
   "outputs": [],
   "source": [
    "def convert(x):\n",
    "    return bin(x)[2:].zfill(40)"
   ]
  },
  {
   "cell_type": "code",
   "execution_count": 4,
   "metadata": {},
   "outputs": [
    {
     "name": "stdout",
     "output_type": "stream",
     "text": [
      "60000 60000 10000 10000\n"
     ]
    }
   ],
   "source": [
    "with open('../src/data_train.txt','r') as pixels, open('../src/label_train.txt','r') as labels:\n",
    "    for l in pixels.readlines():\n",
    "        l1 = map(int, l.split())\n",
    "        l2 = list(map(convert, l1))\n",
    "        px = list(map(int,''.join(l2)))\n",
    "        lb = int(labels.readline())\n",
    "        x_train.append(px)\n",
    "        y_train.append(lb)\n",
    "with open('../src/data_test.txt','r') as pixels, open('../src/label_test.txt','r') as labels:\n",
    "    for l in pixels.readlines():\n",
    "        l1 = map(int, l.split())\n",
    "        l2 = list(map(convert, l1))\n",
    "        px = list(map(int,''.join(l2)))\n",
    "        lb = int(labels.readline())\n",
    "        x_test.append(px)\n",
    "        y_test.append(lb)\n",
    "print(len(x_train),len(y_train),len(x_test),len(y_test))"
   ]
  },
  {
   "cell_type": "code",
   "execution_count": 5,
   "metadata": {},
   "outputs": [],
   "source": [
    "x_train = np.array(x_train)\n",
    "y_train = np.array(y_train)\n",
    "x_test = np.array(x_test)\n",
    "y_test = np.array(y_test)"
   ]
  },
  {
   "cell_type": "code",
   "execution_count": 6,
   "metadata": {},
   "outputs": [],
   "source": [
    "train_count, features = x_train.shape\n",
    "test_count = x_test.shape[0]"
   ]
  },
  {
   "cell_type": "code",
   "execution_count": 165,
   "metadata": {},
   "outputs": [
    {
     "name": "stdout",
     "output_type": "stream",
     "text": [
      "Model: \"sequential_29\"\n",
      "_________________________________________________________________\n",
      " Layer (type)                Output Shape              Param #   \n",
      "=================================================================\n",
      " dense_85 (Dense)            (None, 128)               204928    \n",
      "                                                                 \n",
      " dropout_37 (Dropout)        (None, 128)               0         \n",
      "                                                                 \n",
      " dense_86 (Dense)            (None, 64)                8256      \n",
      "                                                                 \n",
      " dropout_38 (Dropout)        (None, 64)                0         \n",
      "                                                                 \n",
      " dense_87 (Dense)            (None, 10)                650       \n",
      "                                                                 \n",
      "=================================================================\n",
      "Total params: 213,834\n",
      "Trainable params: 213,834\n",
      "Non-trainable params: 0\n",
      "_________________________________________________________________\n"
     ]
    }
   ],
   "source": [
    "# first model\n",
    "model = Sequential()\n",
    "model.add(Dense(units=128, activation='relu', input_shape=(1600,)))\n",
    "model.add(Dropout(rate=0.1))\n",
    "model.add(Dense(units=64, activation='relu'))\n",
    "model.add(Dropout(rate=0.1))\n",
    "model.add(Dense(units=10, activation='softmax'))\n",
    "model.summary()"
   ]
  },
  {
   "cell_type": "code",
   "execution_count": 167,
   "metadata": {},
   "outputs": [
    {
     "name": "stdout",
     "output_type": "stream",
     "text": [
      "Epoch 1/100\n",
      "47/47 [==============================] - 2s 33ms/step - loss: 0.0142 - accuracy: 0.9952 - val_loss: 0.1053 - val_accuracy: 0.9751\n",
      "Epoch 2/100\n",
      "47/47 [==============================] - 1s 25ms/step - loss: 0.0110 - accuracy: 0.9966 - val_loss: 0.1085 - val_accuracy: 0.9736\n",
      "Epoch 3/100\n",
      "47/47 [==============================] - 1s 23ms/step - loss: 0.0103 - accuracy: 0.9967 - val_loss: 0.1087 - val_accuracy: 0.9751\n",
      "Epoch 4/100\n",
      "47/47 [==============================] - 1s 24ms/step - loss: 0.0126 - accuracy: 0.9961 - val_loss: 0.1081 - val_accuracy: 0.9757\n",
      "Epoch 5/100\n",
      "47/47 [==============================] - 1s 28ms/step - loss: 0.0122 - accuracy: 0.9961 - val_loss: 0.1038 - val_accuracy: 0.9761\n",
      "Epoch 6/100\n",
      "47/47 [==============================] - 1s 27ms/step - loss: 0.0110 - accuracy: 0.9967 - val_loss: 0.1072 - val_accuracy: 0.9752\n",
      "Epoch 7/100\n",
      "47/47 [==============================] - 1s 26ms/step - loss: 0.0115 - accuracy: 0.9962 - val_loss: 0.1127 - val_accuracy: 0.9749\n",
      "Epoch 8/100\n",
      "47/47 [==============================] - 1s 25ms/step - loss: 0.0092 - accuracy: 0.9971 - val_loss: 0.1078 - val_accuracy: 0.9764\n",
      "Epoch 9/100\n",
      "47/47 [==============================] - 1s 26ms/step - loss: 0.0081 - accuracy: 0.9976 - val_loss: 0.1111 - val_accuracy: 0.9764\n",
      "Epoch 10/100\n",
      "47/47 [==============================] - 1s 27ms/step - loss: 0.0085 - accuracy: 0.9974 - val_loss: 0.1082 - val_accuracy: 0.9762\n",
      "Epoch 11/100\n",
      "47/47 [==============================] - 1s 26ms/step - loss: 0.0087 - accuracy: 0.9971 - val_loss: 0.1111 - val_accuracy: 0.9760\n",
      "Epoch 12/100\n",
      "47/47 [==============================] - 1s 24ms/step - loss: 0.0100 - accuracy: 0.9967 - val_loss: 0.1122 - val_accuracy: 0.9739\n",
      "Epoch 13/100\n",
      "47/47 [==============================] - 1s 26ms/step - loss: 0.0099 - accuracy: 0.9967 - val_loss: 0.1132 - val_accuracy: 0.9753\n",
      "Epoch 14/100\n",
      "47/47 [==============================] - 1s 27ms/step - loss: 0.0102 - accuracy: 0.9969 - val_loss: 0.1069 - val_accuracy: 0.9765\n",
      "Epoch 15/100\n",
      "47/47 [==============================] - 1s 27ms/step - loss: 0.0087 - accuracy: 0.9971 - val_loss: 0.1141 - val_accuracy: 0.9767\n",
      "Epoch 16/100\n",
      "47/47 [==============================] - 1s 31ms/step - loss: 0.0072 - accuracy: 0.9978 - val_loss: 0.1107 - val_accuracy: 0.9758\n",
      "Epoch 17/100\n",
      "47/47 [==============================] - 1s 31ms/step - loss: 0.0079 - accuracy: 0.9974 - val_loss: 0.1139 - val_accuracy: 0.9759\n",
      "Epoch 18/100\n",
      "47/47 [==============================] - 1s 27ms/step - loss: 0.0075 - accuracy: 0.9974 - val_loss: 0.1077 - val_accuracy: 0.9762\n",
      "Epoch 19/100\n",
      "47/47 [==============================] - 1s 27ms/step - loss: 0.0077 - accuracy: 0.9976 - val_loss: 0.1139 - val_accuracy: 0.9752\n",
      "Epoch 20/100\n",
      "47/47 [==============================] - 1s 24ms/step - loss: 0.0064 - accuracy: 0.9980 - val_loss: 0.1147 - val_accuracy: 0.9756\n",
      "Epoch 21/100\n",
      "47/47 [==============================] - 1s 27ms/step - loss: 0.0069 - accuracy: 0.9979 - val_loss: 0.1196 - val_accuracy: 0.9768\n",
      "Epoch 22/100\n",
      "47/47 [==============================] - 1s 27ms/step - loss: 0.0068 - accuracy: 0.9976 - val_loss: 0.1166 - val_accuracy: 0.9762\n",
      "Epoch 23/100\n",
      "47/47 [==============================] - 1s 29ms/step - loss: 0.0062 - accuracy: 0.9978 - val_loss: 0.1201 - val_accuracy: 0.9754\n",
      "Epoch 24/100\n",
      "47/47 [==============================] - 1s 26ms/step - loss: 0.0067 - accuracy: 0.9978 - val_loss: 0.1189 - val_accuracy: 0.9768\n",
      "Epoch 25/100\n",
      "47/47 [==============================] - 1s 27ms/step - loss: 0.0073 - accuracy: 0.9977 - val_loss: 0.1205 - val_accuracy: 0.9756\n",
      "Epoch 26/100\n",
      "47/47 [==============================] - 1s 28ms/step - loss: 0.0056 - accuracy: 0.9984 - val_loss: 0.1149 - val_accuracy: 0.9774\n",
      "Epoch 27/100\n",
      "47/47 [==============================] - 1s 27ms/step - loss: 0.0066 - accuracy: 0.9979 - val_loss: 0.1108 - val_accuracy: 0.9774\n",
      "Epoch 28/100\n",
      "47/47 [==============================] - 1s 28ms/step - loss: 0.0071 - accuracy: 0.9976 - val_loss: 0.1255 - val_accuracy: 0.9758\n",
      "Epoch 29/100\n",
      "47/47 [==============================] - 1s 30ms/step - loss: 0.0070 - accuracy: 0.9977 - val_loss: 0.1264 - val_accuracy: 0.9760\n",
      "Epoch 30/100\n",
      "47/47 [==============================] - 1s 27ms/step - loss: 0.0067 - accuracy: 0.9977 - val_loss: 0.1180 - val_accuracy: 0.9759\n",
      "Epoch 31/100\n",
      "47/47 [==============================] - 1s 28ms/step - loss: 0.0058 - accuracy: 0.9981 - val_loss: 0.1197 - val_accuracy: 0.9765\n",
      "Epoch 32/100\n",
      "47/47 [==============================] - 1s 28ms/step - loss: 0.0058 - accuracy: 0.9982 - val_loss: 0.1239 - val_accuracy: 0.9751\n",
      "Epoch 33/100\n",
      "47/47 [==============================] - 1s 28ms/step - loss: 0.0060 - accuracy: 0.9981 - val_loss: 0.1309 - val_accuracy: 0.9746\n",
      "Epoch 34/100\n",
      "47/47 [==============================] - 1s 28ms/step - loss: 0.0074 - accuracy: 0.9976 - val_loss: 0.1216 - val_accuracy: 0.9754\n",
      "Epoch 35/100\n",
      "47/47 [==============================] - 1s 28ms/step - loss: 0.0058 - accuracy: 0.9982 - val_loss: 0.1223 - val_accuracy: 0.9762\n",
      "Epoch 36/100\n",
      "47/47 [==============================] - 2s 33ms/step - loss: 0.0070 - accuracy: 0.9976 - val_loss: 0.1225 - val_accuracy: 0.9763\n",
      "Epoch 37/100\n",
      "47/47 [==============================] - 1s 31ms/step - loss: 0.0071 - accuracy: 0.9976 - val_loss: 0.1218 - val_accuracy: 0.9759\n",
      "Epoch 38/100\n",
      "47/47 [==============================] - 1s 29ms/step - loss: 0.0055 - accuracy: 0.9983 - val_loss: 0.1326 - val_accuracy: 0.9762\n",
      "Epoch 39/100\n",
      "47/47 [==============================] - 1s 29ms/step - loss: 0.0068 - accuracy: 0.9980 - val_loss: 0.1277 - val_accuracy: 0.9757\n",
      "Epoch 40/100\n",
      "47/47 [==============================] - 1s 30ms/step - loss: 0.0068 - accuracy: 0.9979 - val_loss: 0.1222 - val_accuracy: 0.9751\n",
      "Epoch 41/100\n",
      "47/47 [==============================] - 1s 29ms/step - loss: 0.0063 - accuracy: 0.9980 - val_loss: 0.1247 - val_accuracy: 0.9760\n",
      "Epoch 42/100\n",
      "47/47 [==============================] - 1s 30ms/step - loss: 0.0055 - accuracy: 0.9985 - val_loss: 0.1237 - val_accuracy: 0.9773\n",
      "Epoch 43/100\n",
      "47/47 [==============================] - 1s 31ms/step - loss: 0.0057 - accuracy: 0.9981 - val_loss: 0.1312 - val_accuracy: 0.9751\n",
      "Epoch 44/100\n",
      "47/47 [==============================] - 2s 33ms/step - loss: 0.0054 - accuracy: 0.9982 - val_loss: 0.1219 - val_accuracy: 0.9770\n",
      "Epoch 45/100\n",
      "47/47 [==============================] - 1s 29ms/step - loss: 0.0051 - accuracy: 0.9986 - val_loss: 0.1256 - val_accuracy: 0.9770\n",
      "Epoch 46/100\n",
      "47/47 [==============================] - 1s 29ms/step - loss: 0.0047 - accuracy: 0.9984 - val_loss: 0.1316 - val_accuracy: 0.9769\n",
      "Epoch 47/100\n",
      "47/47 [==============================] - 1s 31ms/step - loss: 0.0050 - accuracy: 0.9985 - val_loss: 0.1313 - val_accuracy: 0.9760\n",
      "Epoch 48/100\n",
      "47/47 [==============================] - 1s 30ms/step - loss: 0.0044 - accuracy: 0.9987 - val_loss: 0.1300 - val_accuracy: 0.9771\n",
      "Epoch 49/100\n",
      "47/47 [==============================] - 1s 29ms/step - loss: 0.0039 - accuracy: 0.9987 - val_loss: 0.1239 - val_accuracy: 0.9768\n",
      "Epoch 50/100\n",
      "47/47 [==============================] - 1s 30ms/step - loss: 0.0042 - accuracy: 0.9987 - val_loss: 0.1324 - val_accuracy: 0.9765\n",
      "Epoch 51/100\n",
      "47/47 [==============================] - 1s 31ms/step - loss: 0.0045 - accuracy: 0.9985 - val_loss: 0.1293 - val_accuracy: 0.9769\n",
      "Epoch 52/100\n",
      "47/47 [==============================] - 1s 29ms/step - loss: 0.0043 - accuracy: 0.9985 - val_loss: 0.1275 - val_accuracy: 0.9771\n",
      "Epoch 53/100\n",
      "47/47 [==============================] - 1s 27ms/step - loss: 0.0053 - accuracy: 0.9982 - val_loss: 0.1471 - val_accuracy: 0.9732\n",
      "Epoch 54/100\n",
      "47/47 [==============================] - 1s 31ms/step - loss: 0.0062 - accuracy: 0.9979 - val_loss: 0.1343 - val_accuracy: 0.9768\n",
      "Epoch 55/100\n",
      "47/47 [==============================] - 1s 32ms/step - loss: 0.0056 - accuracy: 0.9981 - val_loss: 0.1369 - val_accuracy: 0.9754\n",
      "Epoch 56/100\n",
      "47/47 [==============================] - 1s 28ms/step - loss: 0.0048 - accuracy: 0.9983 - val_loss: 0.1317 - val_accuracy: 0.9760\n",
      "Epoch 57/100\n",
      "47/47 [==============================] - 1s 27ms/step - loss: 0.0046 - accuracy: 0.9985 - val_loss: 0.1331 - val_accuracy: 0.9757\n",
      "Epoch 58/100\n",
      "47/47 [==============================] - 1s 29ms/step - loss: 0.0044 - accuracy: 0.9987 - val_loss: 0.1290 - val_accuracy: 0.9760\n",
      "Epoch 59/100\n",
      "47/47 [==============================] - 1s 28ms/step - loss: 0.0038 - accuracy: 0.9988 - val_loss: 0.1355 - val_accuracy: 0.9758\n",
      "Epoch 60/100\n",
      "47/47 [==============================] - 1s 27ms/step - loss: 0.0056 - accuracy: 0.9981 - val_loss: 0.1353 - val_accuracy: 0.9759\n",
      "Epoch 61/100\n",
      "47/47 [==============================] - 1s 28ms/step - loss: 0.0044 - accuracy: 0.9987 - val_loss: 0.1346 - val_accuracy: 0.9763\n",
      "Epoch 62/100\n",
      "47/47 [==============================] - 1s 29ms/step - loss: 0.0041 - accuracy: 0.9985 - val_loss: 0.1420 - val_accuracy: 0.9760\n",
      "Epoch 63/100\n",
      "47/47 [==============================] - 1s 28ms/step - loss: 0.0044 - accuracy: 0.9984 - val_loss: 0.1390 - val_accuracy: 0.9760\n",
      "Epoch 64/100\n",
      "47/47 [==============================] - 1s 27ms/step - loss: 0.0046 - accuracy: 0.9985 - val_loss: 0.1344 - val_accuracy: 0.9766\n",
      "Epoch 65/100\n",
      "47/47 [==============================] - 1s 31ms/step - loss: 0.0036 - accuracy: 0.9990 - val_loss: 0.1319 - val_accuracy: 0.9768\n",
      "Epoch 66/100\n",
      "47/47 [==============================] - 1s 29ms/step - loss: 0.0032 - accuracy: 0.9989 - val_loss: 0.1358 - val_accuracy: 0.9771\n",
      "Epoch 67/100\n",
      "47/47 [==============================] - 1s 29ms/step - loss: 0.0035 - accuracy: 0.9989 - val_loss: 0.1435 - val_accuracy: 0.9753\n",
      "Epoch 68/100\n",
      "47/47 [==============================] - 1s 29ms/step - loss: 0.0049 - accuracy: 0.9984 - val_loss: 0.1391 - val_accuracy: 0.9759\n",
      "Epoch 69/100\n",
      "47/47 [==============================] - 2s 38ms/step - loss: 0.0042 - accuracy: 0.9984 - val_loss: 0.1474 - val_accuracy: 0.9746\n",
      "Epoch 70/100\n",
      "47/47 [==============================] - 2s 35ms/step - loss: 0.0047 - accuracy: 0.9985 - val_loss: 0.1372 - val_accuracy: 0.9756\n",
      "Epoch 71/100\n",
      "47/47 [==============================] - 2s 35ms/step - loss: 0.0041 - accuracy: 0.9987 - val_loss: 0.1403 - val_accuracy: 0.9749\n",
      "Epoch 72/100\n",
      "47/47 [==============================] - 2s 36ms/step - loss: 0.0034 - accuracy: 0.9988 - val_loss: 0.1350 - val_accuracy: 0.9760\n",
      "Epoch 73/100\n",
      "47/47 [==============================] - 2s 36ms/step - loss: 0.0036 - accuracy: 0.9987 - val_loss: 0.1527 - val_accuracy: 0.9747\n",
      "Epoch 74/100\n",
      "47/47 [==============================] - 2s 36ms/step - loss: 0.0044 - accuracy: 0.9987 - val_loss: 0.1518 - val_accuracy: 0.9761\n",
      "Epoch 75/100\n",
      "47/47 [==============================] - 2s 37ms/step - loss: 0.0042 - accuracy: 0.9985 - val_loss: 0.1361 - val_accuracy: 0.9767\n",
      "Epoch 76/100\n",
      "47/47 [==============================] - 2s 36ms/step - loss: 0.0040 - accuracy: 0.9986 - val_loss: 0.1427 - val_accuracy: 0.9755\n",
      "Epoch 77/100\n",
      "47/47 [==============================] - 2s 40ms/step - loss: 0.0032 - accuracy: 0.9988 - val_loss: 0.1356 - val_accuracy: 0.9762\n",
      "Epoch 78/100\n",
      "47/47 [==============================] - 2s 36ms/step - loss: 0.0037 - accuracy: 0.9988 - val_loss: 0.1392 - val_accuracy: 0.9770\n",
      "Epoch 79/100\n",
      "47/47 [==============================] - 2s 36ms/step - loss: 0.0033 - accuracy: 0.9988 - val_loss: 0.1439 - val_accuracy: 0.9758\n",
      "Epoch 80/100\n",
      "47/47 [==============================] - 2s 37ms/step - loss: 0.0035 - accuracy: 0.9989 - val_loss: 0.1426 - val_accuracy: 0.9760\n",
      "Epoch 81/100\n",
      "47/47 [==============================] - 2s 36ms/step - loss: 0.0050 - accuracy: 0.9985 - val_loss: 0.1418 - val_accuracy: 0.9761\n",
      "Epoch 82/100\n",
      "47/47 [==============================] - 2s 37ms/step - loss: 0.0044 - accuracy: 0.9985 - val_loss: 0.1506 - val_accuracy: 0.9759\n",
      "Epoch 83/100\n",
      "47/47 [==============================] - 2s 37ms/step - loss: 0.0038 - accuracy: 0.9988 - val_loss: 0.1387 - val_accuracy: 0.9762\n",
      "Epoch 84/100\n",
      "47/47 [==============================] - 2s 40ms/step - loss: 0.0037 - accuracy: 0.9988 - val_loss: 0.1447 - val_accuracy: 0.9763\n",
      "Epoch 85/100\n",
      "47/47 [==============================] - 2s 37ms/step - loss: 0.0030 - accuracy: 0.9988 - val_loss: 0.1469 - val_accuracy: 0.9765\n",
      "Epoch 86/100\n",
      "47/47 [==============================] - 2s 36ms/step - loss: 0.0042 - accuracy: 0.9986 - val_loss: 0.1516 - val_accuracy: 0.9750\n",
      "Epoch 87/100\n",
      "47/47 [==============================] - 2s 37ms/step - loss: 0.0043 - accuracy: 0.9986 - val_loss: 0.1435 - val_accuracy: 0.9744\n",
      "Epoch 88/100\n",
      "47/47 [==============================] - 2s 36ms/step - loss: 0.0048 - accuracy: 0.9984 - val_loss: 0.1611 - val_accuracy: 0.9736\n",
      "Epoch 89/100\n",
      "47/47 [==============================] - 2s 38ms/step - loss: 0.0047 - accuracy: 0.9984 - val_loss: 0.1537 - val_accuracy: 0.9758\n",
      "Epoch 90/100\n",
      "47/47 [==============================] - 2s 38ms/step - loss: 0.0032 - accuracy: 0.9990 - val_loss: 0.1439 - val_accuracy: 0.9762\n",
      "Epoch 91/100\n",
      "47/47 [==============================] - 2s 36ms/step - loss: 0.0036 - accuracy: 0.9987 - val_loss: 0.1427 - val_accuracy: 0.9758\n",
      "Epoch 92/100\n",
      "47/47 [==============================] - 2s 38ms/step - loss: 0.0041 - accuracy: 0.9989 - val_loss: 0.1400 - val_accuracy: 0.9755\n",
      "Epoch 93/100\n",
      "47/47 [==============================] - 2s 42ms/step - loss: 0.0055 - accuracy: 0.9981 - val_loss: 0.1392 - val_accuracy: 0.9766\n",
      "Epoch 94/100\n",
      "47/47 [==============================] - 2s 41ms/step - loss: 0.0040 - accuracy: 0.9987 - val_loss: 0.1493 - val_accuracy: 0.9747\n",
      "Epoch 95/100\n",
      "47/47 [==============================] - 2s 37ms/step - loss: 0.0035 - accuracy: 0.9989 - val_loss: 0.1398 - val_accuracy: 0.9764\n",
      "Epoch 96/100\n",
      "47/47 [==============================] - 2s 35ms/step - loss: 0.0026 - accuracy: 0.9992 - val_loss: 0.1508 - val_accuracy: 0.9762\n",
      "Epoch 97/100\n",
      "47/47 [==============================] - 2s 38ms/step - loss: 0.0034 - accuracy: 0.9989 - val_loss: 0.1449 - val_accuracy: 0.9765\n",
      "Epoch 98/100\n",
      "47/47 [==============================] - 2s 37ms/step - loss: 0.0037 - accuracy: 0.9986 - val_loss: 0.1470 - val_accuracy: 0.9752\n",
      "Epoch 99/100\n",
      "47/47 [==============================] - 2s 36ms/step - loss: 0.0028 - accuracy: 0.9990 - val_loss: 0.1469 - val_accuracy: 0.9761\n",
      "Epoch 100/100\n",
      "47/47 [==============================] - 2s 41ms/step - loss: 0.0034 - accuracy: 0.9989 - val_loss: 0.1514 - val_accuracy: 0.9752\n",
      "10/10 [==============================] - 0s 18ms/step - loss: 0.1445 - accuracy: 0.9783\n"
     ]
    },
    {
     "data": {
      "image/png": "[encoded data removed]",
      "text/plain": [
       "<Figure size 432x288 with 1 Axes>"
      ]
     },
     "metadata": {
      "needs_background": "light"
     },
     "output_type": "display_data"
    },
    {
     "name": "stdout",
     "output_type": "stream",
     "text": [
      "Test loss: 0.144\n",
      "Test accuracy: 0.978\n"
     ]
    }
   ],
   "source": [
    "model.compile(optimizer='adam', loss='sparse_categorical_crossentropy', metrics=['accuracy'])\n",
    "history = model.fit(x_train, y_train, batch_size=1024, epochs=100, shuffle=True, validation_split=.2)\n",
    "loss, accuracy  = model.evaluate(x_test, y_test, batch_size=1024)\n",
    "\n",
    "plt.plot(history.history['accuracy'])\n",
    "plt.plot(history.history['val_accuracy'])\n",
    "plt.title('model accuracy')\n",
    "plt.ylabel('accuracy')\n",
    "plt.xlabel('epoch')\n",
    "plt.legend(['training', 'validation'], loc='best')\n",
    "plt.show()\n",
    "\n",
    "print(f'Test loss: {loss:.3}')\n",
    "print(f'Test accuracy: {accuracy:.3}')"
   ]
  },
  {
   "cell_type": "code",
   "execution_count": 40,
   "metadata": {},
   "outputs": [
    {
     "data": {
      "text/plain": [
       "((1600, 128), (1, 128), (128, 64), (1, 64))"
      ]
     },
     "execution_count": 40,
     "metadata": {},
     "output_type": "execute_result"
    }
   ],
   "source": [
    "wList = model.get_weights()\n",
    "wList[1] = np.reshape(wList[1], (1, wList[1].shape[0]))\n",
    "wList[3] = np.reshape(wList[3], (1, wList[3].shape[0]))\n",
    "wList[0].shape, wList[1].shape, wList[2].shape, wList[3].shape"
   ]
  },
  {
   "cell_type": "code",
   "execution_count": 10,
   "metadata": {},
   "outputs": [
    {
     "data": {
      "text/plain": [
       "array([[0.06094807, 0.539661  , 0.68117231],\n",
       "       [0.73494944, 0.74750734, 0.53830821],\n",
       "       [0.21721125, 0.87311173, 0.82015863],\n",
       "       [0.92216783, 0.0042842 , 0.38215996]])"
      ]
     },
     "execution_count": 10,
     "metadata": {},
     "output_type": "execute_result"
    }
   ],
   "source": [
    "a = np.random.rand(4,3)\n",
    "a"
   ]
  },
  {
   "cell_type": "code",
   "execution_count": 11,
   "metadata": {},
   "outputs": [
    {
     "data": {
      "text/plain": [
       "array([[0.12189614, 0.        , 0.        ],\n",
       "       [0.        , 0.        , 0.        ],\n",
       "       [0.43442249, 0.        , 0.        ],\n",
       "       [0.        , 0.0085684 , 0.76431991]])"
      ]
     },
     "execution_count": 11,
     "metadata": {},
     "output_type": "execute_result"
    }
   ],
   "source": [
    "a * (a < 0.5) / 0.5"
   ]
  },
  {
   "cell_type": "code",
   "execution_count": 121,
   "metadata": {},
   "outputs": [],
   "source": [
    "with open('text.txt','w') as g:\n",
    "    g.write('{')\n",
    "    for i in range(len(wList)):\n",
    "        g.write('{')\n",
    "        for j in range(wList[i].shape[0]):\n",
    "            g.write('{')\n",
    "            for k in range(wList[i][j].shape[0]):\n",
    "                g.write(str(wList[i][j][k]))\n",
    "                if k + 1 == wList[i][j].shape[0]: g.write('}')\n",
    "                else: g.write(',')\n",
    "            if j + 1 == wList[i].shape[0]: g.write('}')\n",
    "            else: g.write(',')\n",
    "        if i + 1 == len(wList): g.write('}')\n",
    "        else: g.write(',')"
   ]
  },
  {
   "cell_type": "code",
   "execution_count": 168,
   "metadata": {},
   "outputs": [],
   "source": [
    "wList = model.get_weights()\n",
    "wList[1] = np.reshape(wList[1], (1, wList[1].shape[0]))\n",
    "wList[3] = np.reshape(wList[3], (1, wList[3].shape[0]))\n",
    "wList[5] = np.reshape(wList[5], (1, wList[5].shape[0]))\n",
    "\n",
    "MXX = 100000\n",
    "name = ['w1', 'b1', 'w2', 'b2','w3','b3']\n",
    "with open('text.txt','w') as g:\n",
    "    for i in range(len(wList)):\n",
    "        g.write('ld v' + name[i] + '[' + str(wList[i].shape[0]) + '][' + str(wList[i].shape[1]) + '] =' + '{')\n",
    "        for j in range(min(MXX,wList[i].shape[0])):\n",
    "            g.write('{')\n",
    "            for k in range(min(MXX,wList[i][j].shape[0])):\n",
    "                g.write(str(wList[i][j][k]))\n",
    "                if k + 1 == min(MXX,wList[i][j].shape[0]): g.write('}')\n",
    "                else: g.write(',')\n",
    "            if j + 1 == min(MXX,wList[i].shape[0]): g.write('}')\n",
    "            else: g.write(',')\n",
    "        g.write(';\\n')\n",
    "    g.write('\\nMatrix ')\n",
    "    for i in range(len(wList)):\n",
    "        g.write(name[i] + '(' + str(wList[i].shape[0]) + ',' + str(wList[i].shape[1]) + ')')\n",
    "        if i + 1 == len(wList): g.write(';')\n",
    "        else: g.write(', ')\n",
    "    g.write('\\n')"
   ]
  },
  {
   "cell_type": "code",
   "execution_count": 171,
   "metadata": {},
   "outputs": [],
   "source": [
    "wList = model.get_weights()\n",
    "wList[1] = np.reshape(wList[1], (1, wList[1].shape[0]))\n",
    "wList[3] = np.reshape(wList[3], (1, wList[3].shape[0]))\n",
    "wList[5] = np.reshape(wList[5], (1, wList[5].shape[0]))\n",
    "\n",
    "MXX = 100000\n",
    "name = ['w1', 'b1', 'w2', 'b2','w3','b3']\n",
    "with open('params.txt','w') as g:\n",
    "    for i in range(len(wList)):\n",
    "        for j in range(min(MXX,wList[i].shape[0])):\n",
    "            for k in range(min(MXX,wList[i][j].shape[0])):\n",
    "                g.write(str(wList[i][j][k]))\n",
    "                if k + 1 == min(MXX,wList[i][j].shape[0]): g.write('\\n')\n",
    "                else: g.write(' ')\n",
    "            if j + 1 == min(MXX,wList[i].shape[0]): g.write('\\n')\n",
    "            else: g.write(' ')\n",
    "        g.write('\\n')"
   ]
  },
  {
   "cell_type": "code",
   "execution_count": 13,
   "metadata": {},
   "outputs": [
    {
     "name": "stdout",
     "output_type": "stream",
     "text": [
      "[-0.26014704 -0.24727628 -0.2409507  ...  0.21034294  0.22725719\n",
      "  0.22822458]\n",
      "[-0.12040462 -0.10743477 -0.09505712 -0.09148888 -0.09091929 -0.08619189\n",
      " -0.08205038 -0.07686558 -0.07413844 -0.07275744 -0.07267617 -0.07189123\n",
      " -0.06975536 -0.0695463  -0.0692926  -0.06757965 -0.06715018 -0.06697926\n",
      " -0.06560958 -0.06285212 -0.06252979 -0.06164019 -0.06135112 -0.06111968\n",
      " -0.06074988 -0.06070273 -0.05951096 -0.059036   -0.05827849 -0.05745044\n",
      " -0.05582562 -0.05573272 -0.05553573 -0.05532165 -0.0543976  -0.054113\n",
      " -0.05392619 -0.05356968 -0.05270971 -0.05021285 -0.04987488 -0.04973049\n",
      " -0.04868368 -0.04726651 -0.0469461  -0.04592836 -0.04566283 -0.04532096\n",
      " -0.04528921 -0.04317129 -0.04310488 -0.04134814 -0.04080084 -0.03950386\n",
      " -0.03913711 -0.038874   -0.03830855 -0.03772254 -0.03746923 -0.03709232\n",
      " -0.03619008 -0.03577875 -0.03336017 -0.03089863 -0.03085268 -0.03058065\n",
      " -0.03051068 -0.02736106 -0.02697797 -0.02622349 -0.02616691 -0.02537515\n",
      " -0.02511231 -0.0243594  -0.02392933 -0.02355888 -0.0209611  -0.0209322\n",
      " -0.02051961 -0.02050118 -0.02043462 -0.0198704  -0.01934393 -0.01887206\n",
      " -0.01874857 -0.0186949  -0.01657278 -0.01447    -0.01341136 -0.0134069\n",
      " -0.0130945  -0.01278995 -0.01148094 -0.01104931 -0.01072816 -0.01015382\n",
      " -0.01011053 -0.01008448 -0.00997443 -0.00989566 -0.00984652 -0.00980182\n",
      " -0.00962281 -0.00934393 -0.00924881 -0.00914392 -0.00782475 -0.00746637\n",
      " -0.0073979  -0.00525112 -0.00472285 -0.00459975 -0.00423059 -0.00420402\n",
      " -0.00308983 -0.00306552 -0.002718   -0.00267022 -0.00211622 -0.00168897\n",
      "  0.00037203  0.00264187  0.00330068  0.00404074  0.00413712  0.00430869\n",
      "  0.00441172  0.00522375  0.00625781  0.00672136  0.00732126  0.00848551\n",
      "  0.00849927  0.00977197  0.01010792  0.01086292  0.01150621  0.01196503\n",
      "  0.01210074  0.01247232  0.01260647  0.01324571  0.01334972  0.01444904\n",
      "  0.01449709  0.01579832  0.01709857  0.01716657  0.01864857  0.01894788\n",
      "  0.01901373  0.01908704  0.01935559  0.02086742  0.02113053  0.02122518\n",
      "  0.02159007  0.0222781   0.02232619  0.02233723  0.02285892  0.02395739\n",
      "  0.0249001   0.02684985  0.02696716  0.02697512  0.02836741  0.02908814\n",
      "  0.02930293  0.02935093  0.02938117  0.02946886  0.02949399  0.02991484\n",
      "  0.03014111  0.03040111  0.03072907  0.03092234  0.03293854  0.03301622\n",
      "  0.03344526  0.03360776  0.03509495  0.03518825  0.03551374  0.0357435\n",
      "  0.0366853   0.03693414  0.03782353  0.03801819  0.0382106   0.03876799\n",
      "  0.03933775  0.03945925  0.04000181  0.04003777  0.04020488  0.0402787\n",
      "  0.04061516  0.04133683  0.04137159  0.0414079   0.04237208  0.04267386\n",
      "  0.04321297  0.04324025  0.04330785  0.04372855  0.04441791  0.04456586\n",
      "  0.04484766  0.04491582  0.04575384  0.04712118  0.04817162  0.04820651\n",
      "  0.04918662  0.04969938  0.04986905  0.050097    0.05036196  0.05043874\n",
      "  0.05062962  0.05065193  0.05069908  0.05095568  0.05181656  0.05549222\n",
      "  0.05571887  0.05630854  0.0568676   0.05698067  0.05997149  0.06182857\n",
      "  0.06201549  0.0640351   0.06450331  0.06472939  0.06565941  0.06567559\n",
      "  0.06601292  0.06651613  0.06779134  0.06853998  0.0686509   0.06905863\n",
      "  0.06941519  0.07165532  0.07165571  0.0797567   0.08109229  0.08333925\n",
      "  0.08553057  0.08802117  0.09368188  0.09525234]\n",
      "[-0.4206264  -0.38685012 -0.3822054  ...  0.31123865  0.3211094\n",
      "  0.33041146]\n",
      "[-0.06640934 -0.02828095 -0.02705008 -0.00618375  0.00586624  0.00770178\n",
      "  0.01662843  0.02239608  0.02957395  0.03456733]\n"
     ]
    }
   ],
   "source": [
    "for i in range(4):\n",
    "    print(np.unique(wList[i]))"
   ]
  },
  {
   "cell_type": "code",
   "execution_count": 169,
   "metadata": {},
   "outputs": [
    {
     "name": "stdout",
     "output_type": "stream",
     "text": [
      "0 0 0 0 0 0 0 0 0 0 0 0 0 0 0 0 0 0 0 0 0 0 0 0 0 0 0 0 0 0 0 0 0 0 0 0 0 0 0 0 0 0 0 0 0 0 0 0 0 0 0 0 0 0 0 0 0 0 0 0 0 0 0 0 0 0 0 0 0 0 0 0 0 0 0 0 0 0 0 0 0 0 0 0 0 0 0 0 0 0 0 0 0 0 0 0 0 0 0 0 0 0 0 0 0 0 0 0 0 0 0 0 0 0 0 0 0 0 0 0 0 0 0 0 0 0 0 0 0 0 0 0 0 0 0 0 0 0 0 0 0 0 0 0 0 0 1 1 1 1 1 0 0 0 0 0 0 0 0 0 0 0 0 0 0 0 0 0 0 0 0 0 0 0 0 0 0 0 0 0 0 0 0 0 1 1 1 1 1 1 1 0 0 0 0 0 0 0 0 0 0 0 0 0 0 0 0 0 0 0 0 0 0 0 0 0 0 0 0 0 0 0 0 1 1 1 1 1 1 1 1 0 0 0 0 0 0 0 0 0 0 0 0 0 0 0 0 0 0 0 0 0 0 0 0 0 0 0 0 0 0 1 1 1 1 1 1 1 1 1 0 0 0 0 0 0 0 0 0 0 0 0 0 0 0 0 0 0 0 0 0 0 0 0 0 0 0 0 1 1 1 1 1 1 1 1 1 1 0 0 0 0 0 0 0 0 0 0 0 0 0 0 0 0 0 0 0 0 0 0 0 0 0 0 0 0 1 1 1 1 1 1 1 1 1 1 1 0 0 0 0 0 0 0 0 0 0 0 0 0 0 0 0 0 0 0 0 0 0 0 0 0 0 0 1 1 1 1 1 1 1 1 1 1 1 1 0 0 0 0 0 0 0 0 0 0 0 0 0 0 0 0 0 0 0 0 0 0 0 0 0 0 0 0 0 0 0 1 1 1 1 1 1 1 1 0 0 0 0 0 0 0 0 0 0 0 0 0 0 0 0 0 0 0 0 0 0 0 0 0 0 0 0 0 0 0 0 1 1 1 1 1 1 1 0 0 0 0 0 0 0 0 0 0 0 0 0 0 0 0 0 0 0 0 0 0 0 0 0 0 0 0 0 0 0 0 1 1 1 1 1 1 1 0 0 0 0 0 0 0 0 0 0 0 0 0 0 0 0 0 0 0 0 0 0 0 0 0 0 0 0 0 0 0 0 1 1 1 1 1 1 1 0 0 0 0 0 0 0 0 0 0 0 0 0 0 0 0 0 0 0 0 0 0 0 0 0 0 0 0 0 0 0 0 1 1 1 1 1 1 1 0 0 0 0 0 0 0 0 0 0 0 0 0 0 0 0 0 0 0 0 0 0 0 0 0 0 0 0 0 0 0 0 1 1 1 1 1 1 1 1 0 0 0 0 0 0 0 0 0 0 0 0 0 0 0 0 0 0 0 0 0 0 0 0 0 0 0 0 0 0 0 1 1 1 1 1 1 1 0 0 0 0 0 0 0 0 0 0 0 0 0 0 0 0 0 0 0 0 0 0 0 0 0 0 0 0 0 0 0 0 1 1 1 1 1 1 1 0 0 0 0 0 0 0 0 0 0 0 0 0 0 0 0 0 0 0 0 0 0 0 0 0 0 0 0 0 0 0 0 0 1 1 1 1 1 1 1 0 0 0 0 0 0 0 0 0 1 1 1 1 1 0 0 0 0 0 0 0 0 0 0 0 0 0 0 0 0 0 0 1 1 1 1 1 1 1 0 0 0 0 0 0 0 0 0 1 1 1 1 1 1 1 0 0 0 0 0 0 0 0 0 0 0 0 0 0 0 0 0 1 1 1 1 1 1 0 0 0 0 0 0 0 1 1 1 1 1 1 1 1 1 1 1 0 0 0 0 0 0 0 0 0 0 0 0 0 0 0 1 1 1 1 1 1 0 0 0 0 0 1 1 1 1 1 1 1 1 1 1 1 1 1 1 0 0 0 0 0 0 0 0 0 0 0 0 0 0 0 1 1 1 1 1 1 0 0 0 1 1 1 1 1 1 1 1 1 1 1 1 1 1 1 1 0 0 0 0 0 0 0 0 0 0 0 0 0 0 1 1 1 1 1 1 0 0 1 1 1 1 1 1 1 1 1 1 1 1 1 1 1 1 1 1 0 0 0 0 0 0 0 0 0 0 0 0 0 0 1 1 1 1 1 1 1 1 1 1 1 1 1 1 1 1 0 0 1 1 1 1 1 1 1 1 0 0 0 0 0 0 0 0 0 0 0 0 0 0 1 1 0 0 0 0 0 0 0 0 0 0 1 1 0 0 0 0 0 0 1 1 1 1 1 0 0 0 0 0 0 0 0 0 0 0 0 0 0 0 1 1 0 0 0 0 0 0 0 0 0 0 1 0 0 0 0 1 1 1 1 1 1 1 0 0 0 0 0 0 0 0 0 0 0 0 0 0 0 0 0 1 0 0 0 0 0 0 0 0 0 0 1 1 1 1 1 1 1 1 1 1 1 0 0 0 0 0 0 0 0 0 0 0 0 0 0 0 0 0 0 0 0 0 0 0 0 0 0 0 0 0 1 1 1 1 1 1 1 1 1 1 0 0 0 0 0 0 0 0 0 0 0 0 0 0 0 0 0 0 0 0 0 0 0 0 0 0 0 0 0 0 1 1 1 1 1 1 1 1 1 0 0 0 0 0 0 0 0 0 0 0 0 0 0 0 0 0 0 0 0 0 0 0 0 0 0 0 0 0 0 0 1 1 1 1 1 1 1 0 0 0 0 0 0 0 0 0 0 0 0 0 0 0 0 0 0 0 0 0 0 0 0 0 0 0 0 0 0 0 0 0 0 0 0 0 0 0 0 0 0 0 0 0 0 0 0 0 0 0 0 0 0 0 0 0 0 0 0 0 0 0 0 0 0 0 0 0 0 0 0 0 0 0 0 0 0 0 0 0 0 0 0 0 0 0 0 0 0 0 0 0 0 0 0 0 0 0 0 0 0 0 0 0 0 0 0 0 0 0 0 0 0 0 0 0 0 0 0 0 0 0 0 0 0 0 0 0 0 0 0 0 0 0 0 0 0 0 0 0 0 0 0 0 0 0 0 0 0 0 0 0 0 0 0 0 0 0 0 0 0 0 0 0 0 0 0 0 0 0 0 0 0 0 0 0 0 0 0 0 0 0 0 0 0 0 0 0 0 0 0 0 0 0 0 0 0 0 0 0 0 0 0 0 0 0 0 0 0 0 0 0 0 0 0 0 0 0 0 0 0 0 0 0 0 0 0 0 0 0 0 0 0 0 0 0 0 0 0 0 0 0 0 0 0 0 0 0 0 0 0 0 0 0 0 0 0 0 0 0 0 0 0 0 0 0 0 0 0 0 0 0 0 0 0 0 0 0 0 0 0 0 0 0 0 0 0 0 0 0 0 0 0 0 0 0 0 0 0 0 0 0 0 0 0 0 0 0 0 0 0 0 0 0 0 0 0 0 0 0 0 0 0 0 0 0 0 0 0 0 0 0 0 0 0 0 0 0 0 0 0 0 0 0 0 0 0 0 0 0 0 0 0 0 0 0 0 0 0 0 0 0 0 0 0 0 0 0 0 0 0 0 \n"
     ]
    }
   ],
   "source": [
    "s=\"\"\"0000000000000000000000000000000000000000\n",
    "0000000000000000000000000000000000000000\n",
    "0000000000000000000000000000000000000000\n",
    "0000000000000000000000000011111000000000\n",
    "0000000000000000000000001111111000000000\n",
    "0000000000000000000000011111111000000000\n",
    "0000000000000000000001111111110000000000\n",
    "0000000000000000001111111111000000000000\n",
    "0000000000000000111111111110000000000000\n",
    "0000000000000011111111111100000000000000\n",
    "0000000000000000011111111000000000000000\n",
    "0000000000000000011111110000000000000000\n",
    "0000000000000000111111100000000000000000\n",
    "0000000000000001111111000000000000000000\n",
    "0000000000000011111110000000000000000000\n",
    "0000000000000111111110000000000000000000\n",
    "0000000000001111111000000000000000000000\n",
    "0000000000011111110000000000000000000000\n",
    "0000000000011111110000000001111100000000\n",
    "0000000000111111100000000011111110000000\n",
    "0000000000111111000000011111111111000000\n",
    "0000000001111110000011111111111111000000\n",
    "0000000001111110001111111111111111000000\n",
    "0000000011111100111111111111111111000000\n",
    "0000000011111111111111110011111111000000\n",
    "0000000011000000000011000000111110000000\n",
    "0000000011000000000010000111111100000000\n",
    "0000000001000000000011111111111000000000\n",
    "0000000000000000000011111111110000000000\n",
    "0000000000000000000011111111100000000000\n",
    "0000000000000000000011111110000000000000\n",
    "0000000000000000000000000000000000000000\n",
    "0000000000000000000000000000000000000000\n",
    "0000000000000000000000000000000000000000\n",
    "0000000000000000000000000000000000000000\n",
    "0000000000000000000000000000000000000000\n",
    "0000000000000000000000000000000000000000\n",
    "0000000000000000000000000000000000000000\n",
    "0000000000000000000000000000000000000000\n",
    "0000000000000000000000000000000000000000\n",
    "\"\"\"\n",
    "s=''.join(s.split('\\n'))\n",
    "t = ''\n",
    "for x in s: t += (x + ' ')\n",
    "print(t)"
   ]
  },
  {
   "cell_type": "code",
   "execution_count": 112,
   "metadata": {},
   "outputs": [
    {
     "name": "stdout",
     "output_type": "stream",
     "text": [
      "1/1 [==============================] - 0s 125ms/step\n"
     ]
    },
    {
     "data": {
      "text/plain": [
       "5"
      ]
     },
     "execution_count": 112,
     "metadata": {},
     "output_type": "execute_result"
    }
   ],
   "source": [
    "x_pred = np.array([float(x) for x in s])\n",
    "x_pred = np.reshape(x_pred,(1,-1))\n",
    "# x_pred.shape\n",
    "np.argmax(model.predict(x_pred))"
   ]
  },
  {
   "cell_type": "code",
   "execution_count": 113,
   "metadata": {},
   "outputs": [
    {
     "name": "stdout",
     "output_type": "stream",
     "text": [
      "[[ -2.89202756  -8.73529739 -12.35263491  -7.91347577  -9.79612426\n",
      "   12.50315124  -6.76823763  -5.48342324  -0.42837511  -2.03332258]]\n"
     ]
    }
   ],
   "source": [
    "t = np.dot(x_pred,wList[0]) + wList[1]\n",
    "t = np.maximum(0, t)\n",
    "\n",
    "t = np.dot(t,wList[2]) + wList[3]\n",
    "t = np.maximum(0, t)\n",
    "\n",
    "t = np.dot(t,wList[4]) + wList[5]\n",
    "print(t)"
   ]
  },
  {
   "cell_type": "code",
   "execution_count": 116,
   "metadata": {},
   "outputs": [
    {
     "ename": "UnicodeEncodeError",
     "evalue": "'charmap' codec can't encode character '\\x80' in position 0: character maps to <undefined>",
     "output_type": "error",
     "traceback": [
      "\u001b[1;31m---------------------------------------------------------------------------\u001b[0m",
      "\u001b[1;31mUnicodeEncodeError\u001b[0m                        Traceback (most recent call last)",
      "\u001b[1;32m<ipython-input-116-6f5b60fa5e61>\u001b[0m in \u001b[0;36m<module>\u001b[1;34m\u001b[0m\n\u001b[0;32m      1\u001b[0m \u001b[1;32mwith\u001b[0m \u001b[0mopen\u001b[0m\u001b[1;33m(\u001b[0m\u001b[1;34m'str.txt'\u001b[0m\u001b[1;33m,\u001b[0m\u001b[1;34m'w'\u001b[0m\u001b[1;33m)\u001b[0m \u001b[1;32mas\u001b[0m \u001b[0mf\u001b[0m\u001b[1;33m:\u001b[0m\u001b[1;33m\u001b[0m\u001b[1;33m\u001b[0m\u001b[0m\n\u001b[1;32m----> 2\u001b[1;33m     \u001b[1;32mfor\u001b[0m \u001b[0mx\u001b[0m \u001b[1;32min\u001b[0m \u001b[0mrange\u001b[0m\u001b[1;33m(\u001b[0m\u001b[1;36m256\u001b[0m\u001b[1;33m)\u001b[0m\u001b[1;33m:\u001b[0m \u001b[0mf\u001b[0m\u001b[1;33m.\u001b[0m\u001b[0mwrite\u001b[0m\u001b[1;33m(\u001b[0m\u001b[0mchr\u001b[0m\u001b[1;33m(\u001b[0m\u001b[0mx\u001b[0m\u001b[1;33m)\u001b[0m\u001b[1;33m)\u001b[0m\u001b[1;33m\u001b[0m\u001b[1;33m\u001b[0m\u001b[0m\n\u001b[0m",
      "\u001b[1;32m~\\anaconda3\\lib\\encodings\\cp1252.py\u001b[0m in \u001b[0;36mencode\u001b[1;34m(self, input, final)\u001b[0m\n\u001b[0;32m     17\u001b[0m \u001b[1;32mclass\u001b[0m \u001b[0mIncrementalEncoder\u001b[0m\u001b[1;33m(\u001b[0m\u001b[0mcodecs\u001b[0m\u001b[1;33m.\u001b[0m\u001b[0mIncrementalEncoder\u001b[0m\u001b[1;33m)\u001b[0m\u001b[1;33m:\u001b[0m\u001b[1;33m\u001b[0m\u001b[1;33m\u001b[0m\u001b[0m\n\u001b[0;32m     18\u001b[0m     \u001b[1;32mdef\u001b[0m \u001b[0mencode\u001b[0m\u001b[1;33m(\u001b[0m\u001b[0mself\u001b[0m\u001b[1;33m,\u001b[0m \u001b[0minput\u001b[0m\u001b[1;33m,\u001b[0m \u001b[0mfinal\u001b[0m\u001b[1;33m=\u001b[0m\u001b[1;32mFalse\u001b[0m\u001b[1;33m)\u001b[0m\u001b[1;33m:\u001b[0m\u001b[1;33m\u001b[0m\u001b[1;33m\u001b[0m\u001b[0m\n\u001b[1;32m---> 19\u001b[1;33m         \u001b[1;32mreturn\u001b[0m \u001b[0mcodecs\u001b[0m\u001b[1;33m.\u001b[0m\u001b[0mcharmap_encode\u001b[0m\u001b[1;33m(\u001b[0m\u001b[0minput\u001b[0m\u001b[1;33m,\u001b[0m\u001b[0mself\u001b[0m\u001b[1;33m.\u001b[0m\u001b[0merrors\u001b[0m\u001b[1;33m,\u001b[0m\u001b[0mencoding_table\u001b[0m\u001b[1;33m)\u001b[0m\u001b[1;33m[\u001b[0m\u001b[1;36m0\u001b[0m\u001b[1;33m]\u001b[0m\u001b[1;33m\u001b[0m\u001b[1;33m\u001b[0m\u001b[0m\n\u001b[0m\u001b[0;32m     20\u001b[0m \u001b[1;33m\u001b[0m\u001b[0m\n\u001b[0;32m     21\u001b[0m \u001b[1;32mclass\u001b[0m \u001b[0mIncrementalDecoder\u001b[0m\u001b[1;33m(\u001b[0m\u001b[0mcodecs\u001b[0m\u001b[1;33m.\u001b[0m\u001b[0mIncrementalDecoder\u001b[0m\u001b[1;33m)\u001b[0m\u001b[1;33m:\u001b[0m\u001b[1;33m\u001b[0m\u001b[1;33m\u001b[0m\u001b[0m\n",
      "\u001b[1;31mUnicodeEncodeError\u001b[0m: 'charmap' codec can't encode character '\\x80' in position 0: character maps to <undefined>"
     ]
    }
   ],
   "source": [
    "with open('str.txt','w') as f:\n",
    "    for x in range(256): f.write(chr(x))"
   ]
  }
 ],
 "metadata": {
  "kernelspec": {
   "display_name": "Python 3",
   "language": "python",
   "name": "python3"
  },
  "language_info": {
   "codemirror_mode": {
    "name": "ipython",
    "version": 3
   },
   "file_extension": ".py",
   "mimetype": "text/x-python",
   "name": "python",
   "nbconvert_exporter": "python",
   "pygments_lexer": "ipython3",
   "version": "3.8.5"
  },
  "vscode": {
   "interpreter": {
    "hash": "369f2c481f4da34e4445cda3fffd2e751bd1c4d706f27375911949ba6bb62e1c"
   }
  }
 },
 "nbformat": 4,
 "nbformat_minor": 4
}
