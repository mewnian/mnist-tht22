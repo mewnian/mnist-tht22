{
 "cells": [
  {
   "cell_type": "code",
   "execution_count": 3,
   "metadata": {},
   "outputs": [],
   "source": [
    "import numpy as np\n",
    "import matplotlib.pyplot as plt\n",
    "from PIL import Image as im"
   ]
  },
  {
   "cell_type": "code",
   "execution_count": 50,
   "metadata": {},
   "outputs": [],
   "source": [
    "def Visualize(X): \n",
    "    pic = np.reshape(X, (40, 40)) \n",
    "    pic = (pic / np.max(pic) * 255).astype(np.uint8)\n",
    "    data = im.fromarray(pic) \n",
    "    data.save('dummy_pic.png')"
   ]
  },
  {
   "cell_type": "code",
   "execution_count": 51,
   "metadata": {},
   "outputs": [],
   "source": [
    "f = open(\"train\\\\00000.inp\", \"r\")\n",
    "pic = f.read() \n",
    "pic = pic.replace('\\n', '') \n",
    "pic2 = np.array([])\n",
    "for c in pic: \n",
    "    pic2 = np.append(pic2, int(c))\n",
    "Visualize(pic2)"
   ]
  },
  {
   "cell_type": "code",
   "execution_count": 99,
   "metadata": {},
   "outputs": [],
   "source": [
    "aver = np.zeros([10, 1600])\n",
    "cnt = np.zeros(10) \n",
    "for i in range(60000): \n",
    "    name = str(i) \n",
    "    while len(name) < 5: \n",
    "        name = '0' + name  \n",
    "    name = \"train\\\\\" + name \n",
    "    fi = open(name + \".inp\", \"r\") \n",
    "    fo = open(name + \".ans\", \"r\") \n",
    "    y = int(fo.read())\n",
    "    cnt[y] += 1 \n",
    "    pic = fi.read() \n",
    "    pic = pic.replace('\\n', '') \n",
    "    pic2 = np.array([])\n",
    "    for c in pic: \n",
    "        pic2 = np.append(pic2, int(c))\n",
    "    aver[y] = np.add(aver[y], pic2) \n"
   ]
  },
  {
   "cell_type": "code",
   "execution_count": 100,
   "metadata": {},
   "outputs": [],
   "source": [
    "for y in range(10): \n",
    "    aver[y] = aver[y] / cnt[y] "
   ]
  },
  {
   "cell_type": "code",
   "execution_count": 101,
   "metadata": {},
   "outputs": [],
   "source": [
    "def Noise(X): \n",
    "    fi = open(\"train\\\\\" + X + \".inp\", \"r\") \n",
    "    fo = open(\"train\\\\\" + X + \".ans\", \"r\")\n",
    "    pic = fi.read() \n",
    "    pic = pic.replace('\\n', '') \n",
    "    pic2 = np.array([])\n",
    "    for c in pic: \n",
    "        pic2 = np.append(pic2, int(c))\n",
    "    y = int(fo.read())\n",
    "    if y == 6: \n",
    "        pic2 -= aver[5] \n",
    "    elif y == 8: \n",
    "        pic2 -= aver[3] \n",
    "    elif y == 7: \n",
    "        pic2 -= aver[1] \n",
    "    elif y == 9: \n",
    "        pic2 -= aver[3] \n",
    "    else: \n",
    "        pic2 -= aver[y]\n",
    "    pic2 = delete_best(pic2)\n",
    "    Visualize(pic2)\n",
    "\n",
    "def delete_best(pic2): \n",
    "    pic = np.resize(pic2, (40, 40)) \n",
    "    max_i = -1 \n",
    "    max_j = -1\n",
    "    res = 0\n",
    "    for i in range(30): \n",
    "        for j in range(30): \n",
    "            sum = 0 \n",
    "            for k in range(i, i+10): \n",
    "                for l in range(j, j + 10): \n",
    "                    sum += pic[k][l] \n",
    "            if sum > res: \n",
    "                res = sum \n",
    "                max_i = i \n",
    "                max_j = j  \n",
    "    \n",
    "    for k in range(i, i+10): \n",
    "        for l in range(j, j + 10): \n",
    "            pic[k][l] = 0\n",
    "    pic2 = np.resize(pic, 1600)\n",
    "    return pic2 "
   ]
  },
  {
   "cell_type": "code",
   "execution_count": 102,
   "metadata": {},
   "outputs": [],
   "source": [
    "Noise(\"59998\")"
   ]
  }
 ],
 "metadata": {
  "kernelspec": {
   "display_name": "Python 3.9.12 ('base')",
   "language": "python",
   "name": "python3"
  },
  "language_info": {
   "codemirror_mode": {
    "name": "ipython",
    "version": 3
   },
   "file_extension": ".py",
   "mimetype": "text/x-python",
   "name": "python",
   "nbconvert_exporter": "python",
   "pygments_lexer": "ipython3",
   "version": "3.9.12"
  },
  "orig_nbformat": 4,
  "vscode": {
   "interpreter": {
    "hash": "c42d99d755d00efaf066b964ceed011a4027ae5af520c8ef8190b9acee3a6094"
   }
  }
 },
 "nbformat": 4,
 "nbformat_minor": 2
}
