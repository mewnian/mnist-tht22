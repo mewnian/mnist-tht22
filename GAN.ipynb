{
 "cells": [
  {
   "cell_type": "code",
   "execution_count": 1,
   "metadata": {},
   "outputs": [],
   "source": [
    "import numpy as np "
   ]
  },
  {
   "cell_type": "code",
   "execution_count": 10,
   "metadata": {},
   "outputs": [],
   "source": [
    "def sigmoid(x): \n",
    "        return 1.0 / (1.0 + np.exp(-x)) \n",
    "\n",
    "def softmax(y): \n",
    "        new_y = np.exp(y) \n",
    "        return new_y / (np.sum(new_y)) "
   ]
  },
  {
   "cell_type": "code",
   "execution_count": 7,
   "metadata": {},
   "outputs": [],
   "source": [
    "class Discriminator():\n",
    "    def __init__(self):\n",
    "        #self.weights = np.array([0.0 for i in range(4)])\n",
    "        #self.bias = 0.0\n",
    "        self.weights = np.array([np.random.normal() for i in range(4)])\n",
    "        self.bias = np.random.normal()\n",
    "    \n",
    "    def forward(self, x):\n",
    "        # Forward pass\n",
    "        return sigmoid(np.dot(x, self.weights) + self.bias)\n",
    "    \n",
    "    def error_from_image(self, image):\n",
    "        prediction = self.forward(image)\n",
    "        # We want the prediction to be 1, so the error is -log(prediction)\n",
    "        return -np.log(prediction)\n",
    "    \n",
    "    def derivatives_from_image(self, image):\n",
    "        prediction = self.forward(image)\n",
    "        derivatives_weights = -image * (1-prediction)\n",
    "        derivative_bias = -(1-prediction)\n",
    "        return derivatives_weights, derivative_bias\n",
    "    \n",
    "    def update_from_image(self, x):\n",
    "        ders = self.derivatives_from_image(x)\n",
    "        self.weights -= learning_rate * ders[0]\n",
    "        self.bias -= learning_rate * ders[1]\n",
    "\n",
    "    def error_from_noise(self, noise):\n",
    "        prediction = self.forward(noise)\n",
    "        # We want the prediction to be 0, so the error is -log(1-prediction)\n",
    "        return -np.log(1-prediction)\n",
    "    \n",
    "    def derivatives_from_noise(self, noise):\n",
    "        prediction = self.forward(noise)\n",
    "        derivatives_weights = noise * prediction\n",
    "        derivative_bias = prediction\n",
    "        return derivatives_weights, derivative_bias\n",
    "    \n",
    "    def update_from_noise(self, noise):\n",
    "        ders = self.derivatives_from_noise(noise)\n",
    "        self.weights -= learning_rate * ders[0]\n",
    "        self.bias -= learning_rate * ders[1]\n",
    "    "
   ]
  },
  {
   "cell_type": "code",
   "execution_count": 8,
   "metadata": {},
   "outputs": [],
   "source": [
    "class Generator():\n",
    "    def __init__(self):\n",
    "        self.weights = np.array([np.random.normal() for i in range(4)])\n",
    "        self.biases = np.array([np.random.normal() for i in range(4)])\n",
    "\n",
    "    def forward(self, z):\n",
    "        # Forward pass\n",
    "        return sigmoid(z * self.weights + self.biases)\n",
    "\n",
    "    def error(self, z, discriminator):\n",
    "        x = self.forward(z)\n",
    "        # We want the prediction to be 0, so the error is -log(1-prediction)\n",
    "        y = discriminator.forward(x)\n",
    "        return -np.log(y)\n",
    "\n",
    "    def derivatives(self, z, discriminator):\n",
    "        discriminator_weights = discriminator.weights\n",
    "        discriminator_bias = discriminator.bias\n",
    "        x = self.forward(z)\n",
    "        y = discriminator.forward(x)\n",
    "        factor = -(1-y) * discriminator_weights * x *(1-x)\n",
    "        derivatives_weights = factor * z\n",
    "        derivative_bias = factor\n",
    "        return derivatives_weights, derivative_bias\n",
    "\n",
    "    def update(self, z, discriminator):\n",
    "        error_before = self.error(z, discriminator)\n",
    "        ders = self.derivatives(z, discriminator)\n",
    "        self.weights -= learning_rate * ders[0]\n",
    "        self.biases -= learning_rate * ders[1]\n",
    "        error_after = self.error(z, discriminator)"
   ]
  },
  {
   "cell_type": "code",
   "execution_count": 9,
   "metadata": {},
   "outputs": [
    {
     "ename": "NameError",
     "evalue": "name 'faces' is not defined",
     "output_type": "error",
     "traceback": [
      "\u001b[1;31m---------------------------------------------------------------------------\u001b[0m",
      "\u001b[1;31mNameError\u001b[0m                                 Traceback (most recent call last)",
      "\u001b[1;32md:\\ML-Project\\mnist-tht22\\GAN.ipynb Cell 5\u001b[0m in \u001b[0;36m<cell line: 16>\u001b[1;34m()\u001b[0m\n\u001b[0;32m     <a href='vscode-notebook-cell:/d%3A/ML-Project/mnist-tht22/GAN.ipynb#W4sZmlsZQ%3D%3D?line=13'>14</a>\u001b[0m errors_generator \u001b[39m=\u001b[39m []\n\u001b[0;32m     <a href='vscode-notebook-cell:/d%3A/ML-Project/mnist-tht22/GAN.ipynb#W4sZmlsZQ%3D%3D?line=15'>16</a>\u001b[0m \u001b[39mfor\u001b[39;00m epoch \u001b[39min\u001b[39;00m \u001b[39mrange\u001b[39m(epochs):\n\u001b[1;32m---> <a href='vscode-notebook-cell:/d%3A/ML-Project/mnist-tht22/GAN.ipynb#W4sZmlsZQ%3D%3D?line=17'>18</a>\u001b[0m     \u001b[39mfor\u001b[39;00m face \u001b[39min\u001b[39;00m faces:\n\u001b[0;32m     <a href='vscode-notebook-cell:/d%3A/ML-Project/mnist-tht22/GAN.ipynb#W4sZmlsZQ%3D%3D?line=18'>19</a>\u001b[0m         \n\u001b[0;32m     <a href='vscode-notebook-cell:/d%3A/ML-Project/mnist-tht22/GAN.ipynb#W4sZmlsZQ%3D%3D?line=19'>20</a>\u001b[0m         \u001b[39m# Update the discriminator weights from the real face\u001b[39;00m\n\u001b[0;32m     <a href='vscode-notebook-cell:/d%3A/ML-Project/mnist-tht22/GAN.ipynb#W4sZmlsZQ%3D%3D?line=20'>21</a>\u001b[0m         D\u001b[39m.\u001b[39mupdate_from_image(face)\n\u001b[0;32m     <a href='vscode-notebook-cell:/d%3A/ML-Project/mnist-tht22/GAN.ipynb#W4sZmlsZQ%3D%3D?line=22'>23</a>\u001b[0m         \u001b[39m# Pick a random number to generate a fake face\u001b[39;00m\n",
      "\u001b[1;31mNameError\u001b[0m: name 'faces' is not defined"
     ]
    }
   ],
   "source": [
    "# Set random seed\n",
    "np.random.seed(42)\n",
    "\n",
    "# Hyperparameters\n",
    "learning_rate = 0.01\n",
    "epochs = 1\n",
    "\n",
    "# The GAN\n",
    "D = Discriminator()\n",
    "G = Generator()\n",
    "\n",
    "# For the error plot\n",
    "errors_discriminator = []\n",
    "errors_generator = []\n",
    "\n",
    "for file in range(60000):\n",
    "    \n",
    "    # Update the discriminator weights from the real face\n",
    "    D.update_from_image(face)\n",
    "    \n",
    "    # Pick a random number to generate a fake face\n",
    "    z = random.rand()\n",
    "\n",
    "    # Calculate the discriminator error\n",
    "    errors_discriminator.append(sum(D.error_from_image(face) + D.error_from_noise(z)))\n",
    "        \n",
    "    # Calculate the generator error\n",
    "    errors_generator.append(G.error(z, D))\n",
    "        \n",
    "    # Build a fake face\n",
    "    noise = G.forward(z)\n",
    "        \n",
    "    # Update the discriminator weights from the fake face\n",
    "    D.update_from_noise(noise)\n",
    "    \n",
    "    # Update the generator weights from the fake face\n",
    "    G.update(z, D)"
   ]
  }
 ],
 "metadata": {
  "kernelspec": {
   "display_name": "Python 3.9.12 ('base')",
   "language": "python",
   "name": "python3"
  },
  "language_info": {
   "codemirror_mode": {
    "name": "ipython",
    "version": 3
   },
   "file_extension": ".py",
   "mimetype": "text/x-python",
   "name": "python",
   "nbconvert_exporter": "python",
   "pygments_lexer": "ipython3",
   "version": "3.9.12"
  },
  "orig_nbformat": 4,
  "vscode": {
   "interpreter": {
    "hash": "c42d99d755d00efaf066b964ceed011a4027ae5af520c8ef8190b9acee3a6094"
   }
  }
 },
 "nbformat": 4,
 "nbformat_minor": 2
}
